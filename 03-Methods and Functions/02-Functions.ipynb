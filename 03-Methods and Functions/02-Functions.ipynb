{
 "cells": [
  {
   "cell_type": "markdown",
   "id": "eafecc0b-a3f7-4631-855d-0a381240e0f8",
   "metadata": {},
   "source": [
    "# Functions"
   ]
  },
  {
   "cell_type": "code",
   "execution_count": null,
   "id": "dc6c8b99-6a8a-463d-9d7b-7f49e6e1d73c",
   "metadata": {},
   "outputs": [],
   "source": [
    "def name_of_function():\n",
    "    '''\n",
    "    This where the function's document string goes\n",
    "    when you can call help() on your function it will be printed out\n",
    "    '''\n",
    "\n",
    "    #  Do certain task\n",
    "    # Return a result"
   ]
  },
  {
   "cell_type": "code",
   "execution_count": 3,
   "id": "965e5066-6a5e-4278-95d3-355b9baeb2eb",
   "metadata": {},
   "outputs": [],
   "source": [
    "# Defining a function\n",
    "def say_hello():\n",
    "    print(\"Hello Daveworld\")   "
   ]
  },
  {
   "cell_type": "code",
   "execution_count": 5,
   "id": "f5d4e632-ea08-49dd-addf-08c2efdfcde4",
   "metadata": {},
   "outputs": [
    {
     "name": "stdout",
     "output_type": "stream",
     "text": [
      "Hello Daveworld\n"
     ]
    }
   ],
   "source": [
    "# Function call\n",
    "say_hello()"
   ]
  },
  {
   "cell_type": "code",
   "execution_count": 7,
   "id": "0c2e277b-c62a-45b6-a879-f8fc5c96c42f",
   "metadata": {},
   "outputs": [
    {
     "data": {
      "text/plain": [
       "<function __main__.say_hello()>"
      ]
     },
     "execution_count": 7,
     "metadata": {},
     "output_type": "execute_result"
    }
   ],
   "source": [
    "say_hello"
   ]
  },
  {
   "cell_type": "code",
   "execution_count": 9,
   "id": "b51a6800-fdd7-4ed1-93c9-4aac913cf5c0",
   "metadata": {},
   "outputs": [],
   "source": [
    "def greetings(name): # name passed into the function is known as the parameter\n",
    "    print(f\"Hello {name}\")"
   ]
  },
  {
   "cell_type": "code",
   "execution_count": 11,
   "id": "d7cc35d2-5562-4090-ad19-1282c40b4039",
   "metadata": {},
   "outputs": [
    {
     "name": "stdout",
     "output_type": "stream",
     "text": [
      "Hello Dave\n"
     ]
    }
   ],
   "source": [
    "greetings(\"Dave\") # argument are data passed into a function when it's being called"
   ]
  },
  {
   "cell_type": "code",
   "execution_count": 13,
   "id": "5ef1820e-a6a2-449c-96dc-37f81cfd4c3a",
   "metadata": {},
   "outputs": [
    {
     "name": "stdout",
     "output_type": "stream",
     "text": [
      "Hello preshy\n"
     ]
    }
   ],
   "source": [
    "greetings(\"preshy\")"
   ]
  },
  {
   "cell_type": "code",
   "execution_count": 15,
   "id": "c8d2570b-fe3c-44a2-950c-ec12a6a14e95",
   "metadata": {},
   "outputs": [],
   "source": [
    "# defining a function that takes in parameters\n",
    "def add_num(num1, num2):\n",
    "    add = num1 + num2\n",
    "    return add"
   ]
  },
  {
   "cell_type": "code",
   "execution_count": 17,
   "id": "d2856d36-5351-4be0-9ae3-c8cb7b10cd72",
   "metadata": {},
   "outputs": [
    {
     "data": {
      "text/plain": [
       "5"
      ]
     },
     "execution_count": 17,
     "metadata": {},
     "output_type": "execute_result"
    }
   ],
   "source": [
    "# Function call passing an argument\n",
    "add_num(2, 3)"
   ]
  },
  {
   "cell_type": "code",
   "execution_count": 19,
   "id": "5542a8d7-1685-461e-9af9-4fd55aabab0e",
   "metadata": {},
   "outputs": [
    {
     "data": {
      "text/plain": [
       "55"
      ]
     },
     "execution_count": 19,
     "metadata": {},
     "output_type": "execute_result"
    }
   ],
   "source": [
    "add_num(10, 45)"
   ]
  },
  {
   "cell_type": "code",
   "execution_count": 21,
   "id": "433a67fe-9de2-4887-b071-914520bcc9a8",
   "metadata": {},
   "outputs": [],
   "source": [
    "result = add_num(5, 7)"
   ]
  },
  {
   "cell_type": "code",
   "execution_count": 23,
   "id": "6334d0a2-a921-45f8-955f-903d986387b7",
   "metadata": {},
   "outputs": [
    {
     "name": "stdout",
     "output_type": "stream",
     "text": [
      "12\n"
     ]
    }
   ],
   "source": [
    "print(result)"
   ]
  },
  {
   "cell_type": "code",
   "execution_count": 25,
   "id": "312b7204-f7ea-453c-8644-f4dd95a0e1a8",
   "metadata": {},
   "outputs": [
    {
     "data": {
      "text/plain": [
       "'onetwo'"
      ]
     },
     "execution_count": 25,
     "metadata": {},
     "output_type": "execute_result"
    }
   ],
   "source": [
    "add_num(\"one\", \"two\")"
   ]
  },
  {
   "cell_type": "code",
   "execution_count": 27,
   "id": "66a30821-7ff3-4d2b-84e6-c0daa80f53d1",
   "metadata": {},
   "outputs": [
    {
     "data": {
      "text/plain": [
       "'onetwo'"
      ]
     },
     "execution_count": 27,
     "metadata": {},
     "output_type": "execute_result"
    }
   ],
   "source": [
    "\"one\"+\"two\""
   ]
  },
  {
   "cell_type": "markdown",
   "id": "fa193f7e-fec7-4efb-b2b1-e3df8ec4897e",
   "metadata": {},
   "source": [
    "## Very common question: What is the difference between return and print?"
   ]
  },
  {
   "cell_type": "code",
   "execution_count": 30,
   "id": "b7fb0866-5794-46d6-bcfd-c8efdbe372c5",
   "metadata": {},
   "outputs": [],
   "source": [
    "def print_result(a, b):\n",
    "    print(a+b)"
   ]
  },
  {
   "cell_type": "code",
   "execution_count": 32,
   "id": "d0407910-61a2-4bc6-ba52-2d31241f52dd",
   "metadata": {},
   "outputs": [],
   "source": [
    "def return_result(a, b):\n",
    "    return a + b"
   ]
  },
  {
   "cell_type": "code",
   "execution_count": 34,
   "id": "14db7222-9000-45df-94d2-ce75c4d79ae2",
   "metadata": {},
   "outputs": [
    {
     "name": "stdout",
     "output_type": "stream",
     "text": [
      "15\n"
     ]
    }
   ],
   "source": [
    "print_result(10, 5)"
   ]
  },
  {
   "cell_type": "code",
   "execution_count": 36,
   "id": "b7ac1f41-5889-48ec-a70a-cb1abec20fdd",
   "metadata": {},
   "outputs": [
    {
     "data": {
      "text/plain": [
       "30"
      ]
     },
     "execution_count": 36,
     "metadata": {},
     "output_type": "execute_result"
    }
   ],
   "source": [
    "# You won't see any output if you run this in a .py script\n",
    "return_result(20, 10)"
   ]
  },
  {
   "cell_type": "code",
   "execution_count": 38,
   "id": "d25a55a3-7290-456b-9b32-a8f669680282",
   "metadata": {},
   "outputs": [
    {
     "data": {
      "text/plain": [
       "2"
      ]
     },
     "execution_count": 38,
     "metadata": {},
     "output_type": "execute_result"
    }
   ],
   "source": [
    "1+1"
   ]
  },
  {
   "cell_type": "code",
   "execution_count": 40,
   "id": "0320208a-5192-4288-8062-10e84405617b",
   "metadata": {},
   "outputs": [
    {
     "name": "stdout",
     "output_type": "stream",
     "text": [
      "2\n"
     ]
    }
   ],
   "source": [
    "print(1+1)"
   ]
  },
  {
   "cell_type": "code",
   "execution_count": 42,
   "id": "c876b7fe-1c7c-41c0-8f07-9b23aa0df587",
   "metadata": {},
   "outputs": [],
   "source": [
    "my_result = return_result(30, 20)"
   ]
  },
  {
   "cell_type": "code",
   "execution_count": 44,
   "id": "127c01d8-eb15-4421-8618-33a3eb935c55",
   "metadata": {},
   "outputs": [
    {
     "data": {
      "text/plain": [
       "50"
      ]
     },
     "execution_count": 44,
     "metadata": {},
     "output_type": "execute_result"
    }
   ],
   "source": [
    "my_result"
   ]
  },
  {
   "cell_type": "code",
   "execution_count": 46,
   "id": "ab079e29-6245-4ed8-9502-2ac90813833a",
   "metadata": {},
   "outputs": [
    {
     "name": "stdout",
     "output_type": "stream",
     "text": [
      "15\n"
     ]
    }
   ],
   "source": [
    "my_result2 = print_result(10, 5)"
   ]
  },
  {
   "cell_type": "code",
   "execution_count": 48,
   "id": "5313569d-fcf0-4cce-b7ab-3c2b49752a80",
   "metadata": {},
   "outputs": [],
   "source": [
    "my_result2"
   ]
  },
  {
   "cell_type": "code",
   "execution_count": 50,
   "id": "edaf8774-094e-4d7c-b29b-b5299668300a",
   "metadata": {},
   "outputs": [
    {
     "data": {
      "text/plain": [
       "int"
      ]
     },
     "execution_count": 50,
     "metadata": {},
     "output_type": "execute_result"
    }
   ],
   "source": [
    "type(my_result)"
   ]
  },
  {
   "cell_type": "code",
   "execution_count": 52,
   "id": "3f5b48a6-bca9-425c-822f-9ffefeaf34fd",
   "metadata": {},
   "outputs": [
    {
     "data": {
      "text/plain": [
       "NoneType"
      ]
     },
     "execution_count": 52,
     "metadata": {},
     "output_type": "execute_result"
    }
   ],
   "source": [
    "type(my_result2)"
   ]
  },
  {
   "cell_type": "markdown",
   "id": "e1b5915c-462a-4aea-baec-bb01a2ec206a",
   "metadata": {},
   "source": [
    "## Adding logic to internal function operations"
   ]
  },
  {
   "cell_type": "code",
   "execution_count": 55,
   "id": "69408ca1-e2e6-4869-b423-fd8fc36d2079",
   "metadata": {},
   "outputs": [
    {
     "data": {
      "text/plain": [
       "0"
      ]
     },
     "execution_count": 55,
     "metadata": {},
     "output_type": "execute_result"
    }
   ],
   "source": [
    "10 % 2"
   ]
  },
  {
   "cell_type": "code",
   "execution_count": 57,
   "id": "ec7a7478-325a-4621-a93f-01a57dd092f7",
   "metadata": {},
   "outputs": [
    {
     "data": {
      "text/plain": [
       "1"
      ]
     },
     "execution_count": 57,
     "metadata": {},
     "output_type": "execute_result"
    }
   ],
   "source": [
    "9 % 2"
   ]
  },
  {
   "cell_type": "code",
   "execution_count": 63,
   "id": "184bc854-d0a5-46b5-9284-6f8d0fbee3f3",
   "metadata": {},
   "outputs": [
    {
     "data": {
      "text/plain": [
       "False"
      ]
     },
     "execution_count": 63,
     "metadata": {},
     "output_type": "execute_result"
    }
   ],
   "source": [
    "number = 9\n",
    "number % 2 == 0"
   ]
  },
  {
   "cell_type": "code",
   "execution_count": 65,
   "id": "a948eae8-b05e-4467-9bb4-78f6d163efff",
   "metadata": {},
   "outputs": [],
   "source": [
    "# Write a function that checks is a number is even\n",
    "def even_check(number):\n",
    "    return number % 2 == 0"
   ]
  },
  {
   "cell_type": "code",
   "execution_count": 67,
   "id": "87705c77-65a3-4c17-ad95-e28270fa228f",
   "metadata": {},
   "outputs": [
    {
     "data": {
      "text/plain": [
       "True"
      ]
     },
     "execution_count": 67,
     "metadata": {},
     "output_type": "execute_result"
    }
   ],
   "source": [
    "even_check(20)"
   ]
  },
  {
   "cell_type": "code",
   "execution_count": 69,
   "id": "0d627b7f-ec39-47cf-9f42-fb829e768389",
   "metadata": {},
   "outputs": [
    {
     "data": {
      "text/plain": [
       "False"
      ]
     },
     "execution_count": 69,
     "metadata": {},
     "output_type": "execute_result"
    }
   ],
   "source": [
    "even_check(17)"
   ]
  },
  {
   "cell_type": "code",
   "execution_count": 71,
   "id": "6661cd0c-e146-4140-a022-cd32c7d8ba07",
   "metadata": {},
   "outputs": [],
   "source": [
    "# Check if any number in a number is even or odd\n",
    "def check_even_odd_number(number):\n",
    "    if number % 2 == 0:\n",
    "        print(f\"{number} is an even number\")\n",
    "    else:\n",
    "        print(f\"{number} is an odd number\")\n",
    "        "
   ]
  },
  {
   "cell_type": "code",
   "execution_count": 73,
   "id": "95c39ad1-93eb-43ea-a49c-ba18d7bdc075",
   "metadata": {},
   "outputs": [
    {
     "name": "stdout",
     "output_type": "stream",
     "text": [
      "10 is an even number\n"
     ]
    }
   ],
   "source": [
    "check_even_odd_number(10)"
   ]
  },
  {
   "cell_type": "code",
   "execution_count": 75,
   "id": "8feb553a-0de7-431a-a2c3-cdbaf4aad160",
   "metadata": {},
   "outputs": [
    {
     "name": "stdout",
     "output_type": "stream",
     "text": [
      "5 is an odd number\n"
     ]
    }
   ],
   "source": [
    "check_even_odd_number(5)"
   ]
  }
 ],
 "metadata": {
  "kernelspec": {
   "display_name": "Python 3 (ipykernel)",
   "language": "python",
   "name": "python3"
  },
  "language_info": {
   "codemirror_mode": {
    "name": "ipython",
    "version": 3
   },
   "file_extension": ".py",
   "mimetype": "text/x-python",
   "name": "python",
   "nbconvert_exporter": "python",
   "pygments_lexer": "ipython3",
   "version": "3.12.7"
  }
 },
 "nbformat": 4,
 "nbformat_minor": 5
}
