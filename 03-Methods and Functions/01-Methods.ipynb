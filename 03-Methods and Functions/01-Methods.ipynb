{
 "cells": [
  {
   "cell_type": "markdown",
   "id": "76feb1df-fa65-4c21-a07c-65996c65122a",
   "metadata": {},
   "source": [
    "# Methods"
   ]
  },
  {
   "cell_type": "markdown",
   "id": "4fcca9ba-75a5-4a79-a55d-1d966a3caedc",
   "metadata": {},
   "source": [
    "object.method(arg1, gr2, ...)"
   ]
  },
  {
   "cell_type": "code",
   "execution_count": 6,
   "id": "580cf75f-38e7-47e2-91a4-6ffcb06bb10b",
   "metadata": {},
   "outputs": [],
   "source": [
    "lst = [1, 2, 3, 4, 5]"
   ]
  },
  {
   "cell_type": "code",
   "execution_count": 8,
   "id": "451333d2-3d4d-4397-a299-9449c2c87cdc",
   "metadata": {},
   "outputs": [],
   "source": [
    "# Add a new item to the list\n",
    "lst.append(6)"
   ]
  },
  {
   "cell_type": "code",
   "execution_count": 10,
   "id": "3d2e78d5-0e73-4712-98e1-36b221c7b68e",
   "metadata": {},
   "outputs": [
    {
     "data": {
      "text/plain": [
       "[1, 2, 3, 4, 5, 6]"
      ]
     },
     "execution_count": 10,
     "metadata": {},
     "output_type": "execute_result"
    }
   ],
   "source": [
    "lst"
   ]
  },
  {
   "cell_type": "code",
   "execution_count": 12,
   "id": "abe11aa6-1586-4f58-8d40-57147a2a97c5",
   "metadata": {},
   "outputs": [
    {
     "data": {
      "text/plain": [
       "1"
      ]
     },
     "execution_count": 12,
     "metadata": {},
     "output_type": "execute_result"
    }
   ],
   "source": [
    "# Press shift + tab on your system to get more info about a method\n",
    "lst.count(2)"
   ]
  },
  {
   "cell_type": "code",
   "execution_count": 14,
   "id": "730eec3a-9dfb-4844-b06e-4eaa2d72ccd4",
   "metadata": {},
   "outputs": [],
   "source": [
    "lst.append(2)"
   ]
  },
  {
   "cell_type": "code",
   "execution_count": 16,
   "id": "9eee7dfa-a9f4-4474-928f-0536f4fbe8ef",
   "metadata": {},
   "outputs": [
    {
     "data": {
      "text/plain": [
       "[1, 2, 3, 4, 5, 6, 2]"
      ]
     },
     "execution_count": 16,
     "metadata": {},
     "output_type": "execute_result"
    }
   ],
   "source": [
    "lst"
   ]
  },
  {
   "cell_type": "code",
   "execution_count": 18,
   "id": "cde41a58-fcc4-4030-b00b-ca1f0a4f0ffb",
   "metadata": {},
   "outputs": [
    {
     "data": {
      "text/plain": [
       "2"
      ]
     },
     "execution_count": 18,
     "metadata": {},
     "output_type": "execute_result"
    }
   ],
   "source": [
    "lst.count(2)"
   ]
  },
  {
   "cell_type": "code",
   "execution_count": 20,
   "id": "aea2dfcd-86f4-45d4-953b-d676d0893dab",
   "metadata": {},
   "outputs": [
    {
     "name": "stdout",
     "output_type": "stream",
     "text": [
      "Help on built-in function count:\n",
      "\n",
      "count(value, /) method of builtins.list instance\n",
      "    Return number of occurrences of value.\n",
      "\n"
     ]
    }
   ],
   "source": [
    "help(lst.count)"
   ]
  },
  {
   "cell_type": "code",
   "execution_count": null,
   "id": "33ed12e2-1718-4293-97c4-d2cc623476fe",
   "metadata": {},
   "outputs": [],
   "source": []
  }
 ],
 "metadata": {
  "kernelspec": {
   "display_name": "Python 3 (ipykernel)",
   "language": "python",
   "name": "python3"
  },
  "language_info": {
   "codemirror_mode": {
    "name": "ipython",
    "version": 3
   },
   "file_extension": ".py",
   "mimetype": "text/x-python",
   "name": "python",
   "nbconvert_exporter": "python",
   "pygments_lexer": "ipython3",
   "version": "3.12.7"
  }
 },
 "nbformat": 4,
 "nbformat_minor": 5
}
