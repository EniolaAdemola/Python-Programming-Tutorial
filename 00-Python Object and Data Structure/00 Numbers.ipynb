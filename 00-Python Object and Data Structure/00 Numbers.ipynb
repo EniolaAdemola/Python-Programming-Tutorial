{
 "cells": [
  {
   "cell_type": "markdown",
   "id": "ff54dda7-6994-48f9-ae79-556572977ada",
   "metadata": {},
   "source": [
    "___\n",
    "\n",
    "<a href='https://www.youtube.com/@TechWithDaveworld'><img src='../TechWithDaveworldLogo.png'/></a>\n",
    "___\n",
    "<center><em>Content Copyright by Tech With Daveworld</em></center>"
   ]
  },
  {
   "cell_type": "markdown",
   "id": "78917235-05cd-4a25-8f13-4c5ad5d48f5e",
   "metadata": {},
   "source": [
    "# Numbers and more in Python!\n",
    "\n",
    "In this lecture, we will learn about numbers in Python and how to use them.\n",
    "\n",
    "We'll learn about the following topics:\n",
    "\n",
    "    1.) Types of Numbers in Python\n",
    "    2.) Basic Arithmetic\n",
    "    3.) Differences between classic division and floor division\n",
    "    4.) Object Assignment in Python"
   ]
  },
  {
   "cell_type": "markdown",
   "id": "7e5d22f5-f522-4f3c-b765-2ab6f603e5c8",
   "metadata": {},
   "source": [
    "## Types of numbers\n",
    "\n",
    "Python has various \"types\" of numbers (numeric literals). We'll mainly focus on integers and floating point numbers.\n",
    "\n",
    "Integers are just whole numbers, positive or negative. For example: 2 and -2 are examples of integers.\n",
    "\n",
    "Floating point numbers in Python are notable because they have a decimal point in them, or use an exponential (e) to define the number. For example 2.0 and -2.1 are examples of floating point numbers. 4E2 (4 times 10 to the power of 2) is also an example of a floating point number in Python.\n",
    "\n",
    "Throughout this course we will be mainly working with integers or simple float number types.\n",
    "\n",
    "Here is a table of the two main types we will spend most of our time working with some examples:`"
   ]
  },
  {
   "cell_type": "markdown",
   "id": "49eedb9c-c192-4f9a-9512-68fe302efb0e",
   "metadata": {},
   "source": [
    "<table>\n",
    "<tr>\n",
    "    <th>Examples</th> \n",
    "    <th>Number \"Type\"</th>\n",
    "</tr>\n",
    "\n",
    "<tr>\n",
    "    <td>1,2,-5,1000</td>\n",
    "    <td>Integers</td> \n",
    "</tr>\n",
    "\n",
    "<tr>\n",
    "    <td>1.2,-0.5,2e2,3E2</td> \n",
    "    <td>Floating-point numbers</td> \n",
    "</tr>\n",
    " </table>"
   ]
  },
  {
   "cell_type": "markdown",
   "id": "17172c89-7341-4a3a-a0e1-c85f421c971b",
   "metadata": {},
   "source": [
    "Basic Arithmetic"
   ]
  },
  {
   "cell_type": "code",
   "execution_count": 15,
   "id": "17514cb2-c271-4f6b-8ed6-9d22fc43f0f2",
   "metadata": {},
   "outputs": [
    {
     "data": {
      "text/plain": [
       "3"
      ]
     },
     "execution_count": 15,
     "metadata": {},
     "output_type": "execute_result"
    }
   ],
   "source": [
    "# Addition\n",
    "2+1"
   ]
  },
  {
   "cell_type": "code",
   "execution_count": 17,
   "id": "cdd3eca8-1661-4c7d-bb7f-b158aa5111ac",
   "metadata": {},
   "outputs": [
    {
     "data": {
      "text/plain": [
       "2"
      ]
     },
     "execution_count": 17,
     "metadata": {},
     "output_type": "execute_result"
    }
   ],
   "source": [
    "# Subtraction\n",
    "5-3"
   ]
  },
  {
   "cell_type": "code",
   "execution_count": 19,
   "id": "fa4def73-af75-4486-96a5-68d43306187d",
   "metadata": {},
   "outputs": [
    {
     "data": {
      "text/plain": [
       "12"
      ]
     },
     "execution_count": 19,
     "metadata": {},
     "output_type": "execute_result"
    }
   ],
   "source": [
    "# Multiplication\n",
    "6*2"
   ]
  },
  {
   "cell_type": "code",
   "execution_count": 21,
   "id": "636c58fd-cb3a-4861-a928-7a3e18bd43f5",
   "metadata": {},
   "outputs": [
    {
     "data": {
      "text/plain": [
       "1.5"
      ]
     },
     "execution_count": 21,
     "metadata": {},
     "output_type": "execute_result"
    }
   ],
   "source": [
    "# Division\n",
    "3/2"
   ]
  },
  {
   "cell_type": "code",
   "execution_count": 23,
   "id": "004d42ab-5ba1-4af0-b274-018e9156ebf0",
   "metadata": {},
   "outputs": [
    {
     "data": {
      "text/plain": [
       "1"
      ]
     },
     "execution_count": 23,
     "metadata": {},
     "output_type": "execute_result"
    }
   ],
   "source": [
    "# floor Division\n",
    "7//4"
   ]
  },
  {
   "cell_type": "code",
   "execution_count": 25,
   "id": "c4675b51-c14e-40f7-9ec4-cd0482808cc1",
   "metadata": {},
   "outputs": [
    {
     "data": {
      "text/plain": [
       "1.75"
      ]
     },
     "execution_count": 25,
     "metadata": {},
     "output_type": "execute_result"
    }
   ],
   "source": [
    "7/4"
   ]
  },
  {
   "cell_type": "markdown",
   "id": "5f523eed-88d2-412c-9d93-5be5ddfc571a",
   "metadata": {},
   "source": [
    "**Whoa! What just happened? Last time I checked, 7 divided by 4 equals 1.75 not 1!**\n",
    "\n",
    "The reason we get this result is because we are using \"*floor*\" division. The // operator (two forward slashes) truncates the decimal without rounding, and returns an integer result."
   ]
  },
  {
   "cell_type": "code",
   "execution_count": 28,
   "id": "8c51f3d5-54aa-4589-8fa7-6568408eeec4",
   "metadata": {},
   "outputs": [
    {
     "data": {
      "text/plain": [
       "1"
      ]
     },
     "execution_count": 28,
     "metadata": {},
     "output_type": "execute_result"
    }
   ],
   "source": [
    "# Modulo\n",
    "3%2 # Returns the remainder of the division"
   ]
  },
  {
   "cell_type": "code",
   "execution_count": 30,
   "id": "89d21a5f-a124-464d-93c5-0ce9dccd73fb",
   "metadata": {},
   "outputs": [
    {
     "data": {
      "text/plain": [
       "0"
      ]
     },
     "execution_count": 30,
     "metadata": {},
     "output_type": "execute_result"
    }
   ],
   "source": [
    "6%3"
   ]
  },
  {
   "cell_type": "code",
   "execution_count": 34,
   "id": "f77b4898-b0ec-4158-af48-872e554fc51b",
   "metadata": {},
   "outputs": [
    {
     "data": {
      "text/plain": [
       "5"
      ]
     },
     "execution_count": 34,
     "metadata": {},
     "output_type": "execute_result"
    }
   ],
   "source": [
    "5%6"
   ]
  },
  {
   "cell_type": "code",
   "execution_count": 36,
   "id": "a60fe008-ba79-43df-9c31-376b39f5cd97",
   "metadata": {},
   "outputs": [
    {
     "data": {
      "text/plain": [
       "7"
      ]
     },
     "execution_count": 36,
     "metadata": {},
     "output_type": "execute_result"
    }
   ],
   "source": [
    "7%9"
   ]
  },
  {
   "cell_type": "code",
   "execution_count": 38,
   "id": "a128003c-2966-459c-bbb5-2b98764fcb43",
   "metadata": {},
   "outputs": [
    {
     "data": {
      "text/plain": [
       "4"
      ]
     },
     "execution_count": 38,
     "metadata": {},
     "output_type": "execute_result"
    }
   ],
   "source": [
    "# powers\n",
    "2**2"
   ]
  },
  {
   "cell_type": "code",
   "execution_count": 40,
   "id": "f1e16232-5e91-4d65-824d-27609987cdab",
   "metadata": {},
   "outputs": [
    {
     "data": {
      "text/plain": [
       "2.0"
      ]
     },
     "execution_count": 40,
     "metadata": {},
     "output_type": "execute_result"
    }
   ],
   "source": [
    "# Can also do root this way\n",
    "4**0.5"
   ]
  },
  {
   "cell_type": "code",
   "execution_count": 42,
   "id": "459e8b7c-836b-4f44-b571-5f883a6cd501",
   "metadata": {},
   "outputs": [
    {
     "data": {
      "text/plain": [
       "156"
      ]
     },
     "execution_count": 42,
     "metadata": {},
     "output_type": "execute_result"
    }
   ],
   "source": [
    "# You can use parenthesis() to specify orders\n",
    "(2+10) * (10+3)"
   ]
  },
  {
   "cell_type": "markdown",
   "id": "2ab21651-c43b-4f30-9721-34bfd59ec4eb",
   "metadata": {},
   "source": [
    "## Variable Assignments\n",
    "\n",
    "Now that we've seen how to use numbers in Python as a calculator let's see how we can assign names and create variables.\n",
    "\n",
    "We use a single equals sign to assign labels to variables. Let's see a few examples of how we can do this."
   ]
  },
  {
   "cell_type": "code",
   "execution_count": 45,
   "id": "bb1fab60-9a1c-417a-931b-bfed86880cad",
   "metadata": {},
   "outputs": [],
   "source": [
    "# create an object called \"a\" and assign it the number 3\n",
    "a = 5"
   ]
  },
  {
   "cell_type": "code",
   "execution_count": 47,
   "id": "5ac0fe97-e1e7-4efd-a77c-e60e25f8e031",
   "metadata": {},
   "outputs": [
    {
     "data": {
      "text/plain": [
       "5"
      ]
     },
     "execution_count": 47,
     "metadata": {},
     "output_type": "execute_result"
    }
   ],
   "source": [
    "a # calling my variable"
   ]
  },
  {
   "cell_type": "code",
   "execution_count": 49,
   "id": "548e8e72-447e-4823-8c52-7de214b7f7c4",
   "metadata": {},
   "outputs": [
    {
     "data": {
      "text/plain": [
       "10"
      ]
     },
     "execution_count": 49,
     "metadata": {},
     "output_type": "execute_result"
    }
   ],
   "source": [
    "a+a"
   ]
  },
  {
   "cell_type": "code",
   "execution_count": 51,
   "id": "29699642-f54f-4c2e-9f02-4498a05dafd2",
   "metadata": {},
   "outputs": [
    {
     "data": {
      "text/plain": [
       "5"
      ]
     },
     "execution_count": 51,
     "metadata": {},
     "output_type": "execute_result"
    }
   ],
   "source": [
    "a"
   ]
  },
  {
   "cell_type": "markdown",
   "id": "5743b7ff-8aea-4e84-ba2d-8c66f0d5fddf",
   "metadata": {},
   "source": [
    "What happens if we reassign another value to the same variable?"
   ]
  },
  {
   "cell_type": "code",
   "execution_count": 54,
   "id": "3f968e55-5ba1-4c91-9c7f-3cd7970a403d",
   "metadata": {},
   "outputs": [],
   "source": [
    "a = 10 #Reassignment "
   ]
  },
  {
   "cell_type": "code",
   "execution_count": 56,
   "id": "864c3721-d0a7-4d19-8cc5-ea615c895884",
   "metadata": {},
   "outputs": [
    {
     "data": {
      "text/plain": [
       "10"
      ]
     },
     "execution_count": 56,
     "metadata": {},
     "output_type": "execute_result"
    }
   ],
   "source": [
    "#check\n",
    "a"
   ]
  },
  {
   "cell_type": "code",
   "execution_count": 63,
   "id": "9f8947dc-e141-4c67-b109-24feb49bba4e",
   "metadata": {},
   "outputs": [],
   "source": [
    "# Write a simple program to calculate tax\n",
    "my_income = 100\n",
    "\n",
    "tax_rate = 0.1\n",
    "\n",
    "my_tax = my_income * tax_rate"
   ]
  },
  {
   "cell_type": "code",
   "execution_count": 65,
   "id": "cd22fc1d-2711-41e2-85ea-3f3dee9cbb16",
   "metadata": {},
   "outputs": [
    {
     "data": {
      "text/plain": [
       "10.0"
      ]
     },
     "execution_count": 65,
     "metadata": {},
     "output_type": "execute_result"
    }
   ],
   "source": [
    "# Show my tax\n",
    "my_tax"
   ]
  }
 ],
 "metadata": {
  "kernelspec": {
   "display_name": "Python 3 (ipykernel)",
   "language": "python",
   "name": "python3"
  },
  "language_info": {
   "codemirror_mode": {
    "name": "ipython",
    "version": 3
   },
   "file_extension": ".py",
   "mimetype": "text/x-python",
   "name": "python",
   "nbconvert_exporter": "python",
   "pygments_lexer": "ipython3",
   "version": "3.12.7"
  }
 },
 "nbformat": 4,
 "nbformat_minor": 5
}
