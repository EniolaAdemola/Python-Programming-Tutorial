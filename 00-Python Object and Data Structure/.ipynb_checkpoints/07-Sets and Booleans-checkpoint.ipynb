{
 "cells": [
  {
   "cell_type": "markdown",
   "id": "f9bf30a8-d36f-4d6e-9fd7-4519011f1514",
   "metadata": {},
   "source": [
    "___\n",
    "\n",
    "<a href='https://www.youtube.com/@TechWithDaveworld'><img src='../TechWithDaveworldLogo.png'/></a>\n",
    "___\n",
    "<center><em>Content Copyright by Tech With Daveworld</em></center>"
   ]
  },
  {
   "cell_type": "markdown",
   "id": "61128f75-eea0-4736-8e33-b7acd4f50fd1",
   "metadata": {},
   "source": [
    "# Set and Booleans\n",
    "\n",
    "There are two other object types in Python that we should quickly cover: Sets and Booleans. \n",
    "\n",
    "## Sets\n",
    "\n",
    "Sets are an unordered collection of *unique* elements. We can construct them by using the set() function. Let's go ahead and make a set to see how it works"
   ]
  },
  {
   "cell_type": "code",
   "execution_count": 4,
   "id": "9318751a-b15b-45b3-87dd-da97f7b05f77",
   "metadata": {},
   "outputs": [],
   "source": [
    "x = set()"
   ]
  },
  {
   "cell_type": "code",
   "execution_count": 6,
   "id": "830adafe-51dc-4788-a9fc-0c3c3780763d",
   "metadata": {},
   "outputs": [],
   "source": [
    "x.add(1)"
   ]
  },
  {
   "cell_type": "code",
   "execution_count": 8,
   "id": "0fabc333-c037-412a-9389-ca73107914f8",
   "metadata": {},
   "outputs": [
    {
     "data": {
      "text/plain": [
       "{1}"
      ]
     },
     "execution_count": 8,
     "metadata": {},
     "output_type": "execute_result"
    }
   ],
   "source": [
    "x"
   ]
  },
  {
   "cell_type": "markdown",
   "id": "1c431baa-58ce-492e-b9df-7c8036dacc74",
   "metadata": {},
   "source": [
    "Note the curly brackets. This does not indicate a dictionary! Although you can draw analogies as a set being a dictionary with only keys.\n",
    "\n",
    "We know that a set has only unique entries. So what happens when we try to add something that is already in a set?"
   ]
  },
  {
   "cell_type": "code",
   "execution_count": 10,
   "id": "0731f6a7-92ab-4297-a083-ae29aa2fca37",
   "metadata": {},
   "outputs": [],
   "source": [
    "x.add(2)"
   ]
  },
  {
   "cell_type": "code",
   "execution_count": 12,
   "id": "67e4d4ba-84c2-44fc-a966-8aceeb2a2f95",
   "metadata": {},
   "outputs": [
    {
     "data": {
      "text/plain": [
       "{1, 2}"
      ]
     },
     "execution_count": 12,
     "metadata": {},
     "output_type": "execute_result"
    }
   ],
   "source": [
    "x"
   ]
  },
  {
   "cell_type": "code",
   "execution_count": 14,
   "id": "5130d6f2-f1c3-4abf-8391-8677dd538f4f",
   "metadata": {},
   "outputs": [],
   "source": [
    "x.add(1)"
   ]
  },
  {
   "cell_type": "code",
   "execution_count": 16,
   "id": "dbda8b37-52ca-4f7e-bfde-cf6d8e20e15d",
   "metadata": {},
   "outputs": [
    {
     "data": {
      "text/plain": [
       "{1, 2}"
      ]
     },
     "execution_count": 16,
     "metadata": {},
     "output_type": "execute_result"
    }
   ],
   "source": [
    "x"
   ]
  },
  {
   "cell_type": "markdown",
   "id": "2543671d-d9d1-45d9-91f5-5bd3f2318182",
   "metadata": {},
   "source": [
    "Notice how it won't place another 1 there. That's because a set is only concerned with unique elements! We can cast a list with multiple repeat elements to a set to get the unique elements. For example:"
   ]
  },
  {
   "cell_type": "code",
   "execution_count": 18,
   "id": "70d01532-9ca7-4f14-bba6-e49b3f006b99",
   "metadata": {},
   "outputs": [],
   "source": [
    "list1 = [1, 1, 2, 2, 3, 4, 5, 6, 1, 1]"
   ]
  },
  {
   "cell_type": "code",
   "execution_count": 20,
   "id": "0a5dc405-3413-48cc-82dd-c495b2994c25",
   "metadata": {},
   "outputs": [
    {
     "data": {
      "text/plain": [
       "[1, 1, 2, 2, 3, 4, 5, 6, 1, 1]"
      ]
     },
     "execution_count": 20,
     "metadata": {},
     "output_type": "execute_result"
    }
   ],
   "source": [
    "list1"
   ]
  },
  {
   "cell_type": "code",
   "execution_count": 22,
   "id": "10a9a549-b38d-4609-a57a-aa045f5920a2",
   "metadata": {},
   "outputs": [
    {
     "data": {
      "text/plain": [
       "{1, 2, 3, 4, 5, 6}"
      ]
     },
     "execution_count": 22,
     "metadata": {},
     "output_type": "execute_result"
    }
   ],
   "source": [
    "set(list1)"
   ]
  },
  {
   "cell_type": "markdown",
   "id": "3ffeb176-fa86-4bde-b2c6-fd914881ca02",
   "metadata": {},
   "source": [
    "## Booleans\n",
    "\n",
    "Python  comes with Booleans (with predefined True and False displays that are basically just the integers 1 and 0). It also has a placeholder object called None. Let's walk through a few quick examples of Booleans (we will dive deeper into them later in this course)."
   ]
  },
  {
   "cell_type": "code",
   "execution_count": 29,
   "id": "3a8dc7c4-c422-4c35-b754-e2f2d08b5c0b",
   "metadata": {},
   "outputs": [],
   "source": [
    "a = True"
   ]
  },
  {
   "cell_type": "code",
   "execution_count": 31,
   "id": "55887d3a-b5eb-46e3-864a-840352c1dec6",
   "metadata": {},
   "outputs": [
    {
     "data": {
      "text/plain": [
       "True"
      ]
     },
     "execution_count": 31,
     "metadata": {},
     "output_type": "execute_result"
    }
   ],
   "source": [
    "a"
   ]
  },
  {
   "cell_type": "code",
   "execution_count": 33,
   "id": "3941311f-6462-44bc-b090-477f9f385e2e",
   "metadata": {},
   "outputs": [
    {
     "data": {
      "text/plain": [
       "False"
      ]
     },
     "execution_count": 33,
     "metadata": {},
     "output_type": "execute_result"
    }
   ],
   "source": [
    "1 > 2"
   ]
  },
  {
   "cell_type": "code",
   "execution_count": 35,
   "id": "b8a8b958-0fa7-4c89-bd0d-cd5d4d35a57c",
   "metadata": {},
   "outputs": [
    {
     "data": {
      "text/plain": [
       "True"
      ]
     },
     "execution_count": 35,
     "metadata": {},
     "output_type": "execute_result"
    }
   ],
   "source": [
    "3 > 2"
   ]
  },
  {
   "cell_type": "code",
   "execution_count": 37,
   "id": "f3a4d25a-501e-4ff6-bb7a-2c4c5c92f225",
   "metadata": {},
   "outputs": [
    {
     "name": "stdout",
     "output_type": "stream",
     "text": [
      "1 is not greater than 2\n"
     ]
    }
   ],
   "source": [
    "if 1 > 2:\n",
    "    print(\"1 is greater than 2\")\n",
    "else:\n",
    "    print(\"1 is not greater than 2\")"
   ]
  },
  {
   "cell_type": "code",
   "execution_count": 39,
   "id": "165df789-e668-4a2a-ba9b-24e7500a9b3f",
   "metadata": {},
   "outputs": [],
   "source": [
    "b = None"
   ]
  },
  {
   "cell_type": "code",
   "execution_count": 41,
   "id": "51bec8b7-a5ac-403e-a406-4ea23adf691b",
   "metadata": {},
   "outputs": [
    {
     "name": "stdout",
     "output_type": "stream",
     "text": [
      "None\n"
     ]
    }
   ],
   "source": [
    "print(b)"
   ]
  },
  {
   "cell_type": "markdown",
   "id": "1780a82d-7d97-47e4-bad8-dea1f4e9e173",
   "metadata": {},
   "source": [
    "Thats it! You should now have a basic understanding of Python objects and data structure types. Next, go ahead and do the assessment test!"
   ]
  }
 ],
 "metadata": {
  "kernelspec": {
   "display_name": "Python 3 (ipykernel)",
   "language": "python",
   "name": "python3"
  },
  "language_info": {
   "codemirror_mode": {
    "name": "ipython",
    "version": 3
   },
   "file_extension": ".py",
   "mimetype": "text/x-python",
   "name": "python",
   "nbconvert_exporter": "python",
   "pygments_lexer": "ipython3",
   "version": "3.12.7"
  }
 },
 "nbformat": 4,
 "nbformat_minor": 5
}
