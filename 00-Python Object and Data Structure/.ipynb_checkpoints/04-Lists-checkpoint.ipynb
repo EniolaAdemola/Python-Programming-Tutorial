{
 "cells": [
  {
   "cell_type": "markdown",
   "id": "a8a713a3-04bc-4bb1-9805-ddccfc149d9b",
   "metadata": {},
   "source": [
    "___\n",
    "\n",
    "<a href='https://www.youtube.com/@TechWithDaveworld'><img src='../TechWithDaveworldLogo.png'/></a>\n",
    "___\n",
    "<center><em>Content Copyright by Tech With Daveworld</em></center>"
   ]
  },
  {
   "cell_type": "markdown",
   "id": "2d4aa41c-135b-4c6f-804f-ff5927121952",
   "metadata": {},
   "source": [
    "# Lists\n",
    "\n",
    "Earlier when discussing strings we introduced the concept of a *sequence* in Python. Lists can be thought of the most general version of a *sequence* in Python. Unlike strings, they are mutable, meaning the elements inside a list can be changed!\n",
    "\n",
    "In this section we will learn about:\n",
    "    \n",
    "    1.) Creating lists\n",
    "    2.) Indexing and Slicing Lists\n",
    "    3.) Basic List Methods\n",
    "    4.) Nesting Lists\n",
    "    5.) Introduction to List Comprehensions\n",
    "\n",
    "Lists are constructed with brackets [] and commas separating every element in the list.\n",
    "\n",
    "Let's go ahead and see how we can construct lists!"
   ]
  },
  {
   "cell_type": "code",
   "execution_count": 3,
   "id": "bc913a64-687d-4469-a61d-fa0895761d9d",
   "metadata": {},
   "outputs": [],
   "source": [
    "my_list = [1, 2, 3]"
   ]
  },
  {
   "cell_type": "code",
   "execution_count": 5,
   "id": "b0e5cb4b-eb9f-4df0-85e5-7f145573ba37",
   "metadata": {},
   "outputs": [
    {
     "data": {
      "text/plain": [
       "[1, 2, 3]"
      ]
     },
     "execution_count": 5,
     "metadata": {},
     "output_type": "execute_result"
    }
   ],
   "source": [
    "my_list"
   ]
  },
  {
   "cell_type": "code",
   "execution_count": 7,
   "id": "d5d0c1c2-3cc3-4a23-88b0-2874fabe0dbb",
   "metadata": {},
   "outputs": [],
   "source": [
    "my_list = [\"A String\", 23, 100, 4.7, \"o\"]"
   ]
  },
  {
   "cell_type": "code",
   "execution_count": 9,
   "id": "3dc888e2-fc9f-4233-8981-0a5d9ee2992a",
   "metadata": {},
   "outputs": [
    {
     "data": {
      "text/plain": [
       "['A String', 23, 100, 4.7, 'o']"
      ]
     },
     "execution_count": 9,
     "metadata": {},
     "output_type": "execute_result"
    }
   ],
   "source": [
    "my_list"
   ]
  },
  {
   "cell_type": "markdown",
   "id": "060a4422-3334-43f0-b479-916558ad45f8",
   "metadata": {},
   "source": [
    "Just like strings, the len() function will tell you how many items are in the sequence of the list."
   ]
  },
  {
   "cell_type": "code",
   "execution_count": 11,
   "id": "3fdd8b4b-aa5e-46b7-9d07-2f99b816bb92",
   "metadata": {},
   "outputs": [
    {
     "data": {
      "text/plain": [
       "5"
      ]
     },
     "execution_count": 11,
     "metadata": {},
     "output_type": "execute_result"
    }
   ],
   "source": [
    "len(my_list)"
   ]
  },
  {
   "cell_type": "code",
   "execution_count": 27,
   "id": "6fcbcec9-1715-435e-96f9-1f281795614f",
   "metadata": {},
   "outputs": [],
   "source": [
    "my_list = [\"one\", \"two\", \"three\", 4, 5]"
   ]
  },
  {
   "cell_type": "code",
   "execution_count": 15,
   "id": "528de623-4df8-4ffa-8969-f95fc8a3b203",
   "metadata": {},
   "outputs": [
    {
     "data": {
      "text/plain": [
       "'one'"
      ]
     },
     "execution_count": 15,
     "metadata": {},
     "output_type": "execute_result"
    }
   ],
   "source": [
    "my_list[0]"
   ]
  },
  {
   "cell_type": "code",
   "execution_count": 17,
   "id": "4c91fd27-8d19-4250-936a-bd7eb95adf25",
   "metadata": {},
   "outputs": [
    {
     "data": {
      "text/plain": [
       "['two', 'three', 4, 5]"
      ]
     },
     "execution_count": 17,
     "metadata": {},
     "output_type": "execute_result"
    }
   ],
   "source": [
    "my_list[1:]"
   ]
  },
  {
   "cell_type": "code",
   "execution_count": 19,
   "id": "d6c309a7-908e-4c56-8512-7edd0d27af2e",
   "metadata": {},
   "outputs": [
    {
     "data": {
      "text/plain": [
       "['one', 'two', 'three']"
      ]
     },
     "execution_count": 19,
     "metadata": {},
     "output_type": "execute_result"
    }
   ],
   "source": [
    "my_list[:3]"
   ]
  },
  {
   "cell_type": "code",
   "execution_count": 21,
   "id": "b03de27f-b551-4435-813b-4af5e4650056",
   "metadata": {},
   "outputs": [
    {
     "data": {
      "text/plain": [
       "['one', 'two', 'three', 4]"
      ]
     },
     "execution_count": 21,
     "metadata": {},
     "output_type": "execute_result"
    }
   ],
   "source": [
    "my_list[:4]"
   ]
  },
  {
   "cell_type": "code",
   "execution_count": 29,
   "id": "cfc29045-3e62-4f57-b6f9-7f43004a5cb6",
   "metadata": {},
   "outputs": [
    {
     "data": {
      "text/plain": [
       "['one', 'two', 'three', 4, 5]"
      ]
     },
     "execution_count": 29,
     "metadata": {},
     "output_type": "execute_result"
    }
   ],
   "source": [
    "my_list"
   ]
  },
  {
   "cell_type": "code",
   "execution_count": 31,
   "id": "53f7fdc3-4751-4754-9aa7-b961a0cf1e73",
   "metadata": {},
   "outputs": [
    {
     "data": {
      "text/plain": [
       "['one', 'two', 'three', 4, 5, 'new item']"
      ]
     },
     "execution_count": 31,
     "metadata": {},
     "output_type": "execute_result"
    }
   ],
   "source": [
    "my_list + [\"new item\"]"
   ]
  },
  {
   "cell_type": "code",
   "execution_count": 33,
   "id": "0acf84c1-544a-41f7-ad85-0e6900913a9a",
   "metadata": {},
   "outputs": [
    {
     "data": {
      "text/plain": [
       "['one', 'two', 'three', 4, 5]"
      ]
     },
     "execution_count": 33,
     "metadata": {},
     "output_type": "execute_result"
    }
   ],
   "source": [
    "my_list"
   ]
  },
  {
   "cell_type": "code",
   "execution_count": 35,
   "id": "248a3923-2803-45d8-89b0-ddfb6b90a900",
   "metadata": {},
   "outputs": [],
   "source": [
    "my_list = my_list + [\"add new item permanently\"]"
   ]
  },
  {
   "cell_type": "code",
   "execution_count": 37,
   "id": "0ff7e9f5-1a82-4628-9659-21e9b0390843",
   "metadata": {},
   "outputs": [
    {
     "data": {
      "text/plain": [
       "['one', 'two', 'three', 4, 5, 'add new item permanently']"
      ]
     },
     "execution_count": 37,
     "metadata": {},
     "output_type": "execute_result"
    }
   ],
   "source": [
    "my_list"
   ]
  },
  {
   "cell_type": "code",
   "execution_count": 39,
   "id": "0e463c66-7ae2-4c5d-9b0c-22589d1bcc90",
   "metadata": {},
   "outputs": [
    {
     "data": {
      "text/plain": [
       "['one',\n",
       " 'two',\n",
       " 'three',\n",
       " 4,\n",
       " 5,\n",
       " 'add new item permanently',\n",
       " 'one',\n",
       " 'two',\n",
       " 'three',\n",
       " 4,\n",
       " 5,\n",
       " 'add new item permanently']"
      ]
     },
     "execution_count": 39,
     "metadata": {},
     "output_type": "execute_result"
    }
   ],
   "source": [
    "my_list * 2"
   ]
  },
  {
   "cell_type": "code",
   "execution_count": 41,
   "id": "633f4945-c7af-40b5-a6b3-8b132b2844b4",
   "metadata": {},
   "outputs": [
    {
     "data": {
      "text/plain": [
       "['one', 'two', 'three', 4, 5, 'add new item permanently']"
      ]
     },
     "execution_count": 41,
     "metadata": {},
     "output_type": "execute_result"
    }
   ],
   "source": [
    "my_list"
   ]
  },
  {
   "cell_type": "markdown",
   "id": "17345148-c741-4ec8-aae7-8141892a7542",
   "metadata": {},
   "source": [
    "## Basic List Methods\n",
    "\n",
    "If you are familiar with another programming language, you might start to draw parallels between arrays in another language and lists in Python. Lists in Python however, tend to be more flexible than arrays in other languages for a two good reasons: they have no fixed size (meaning we don't have to specify how big a list will be), and they have no fixed type constraint (like we've seen above).\n",
    "\n",
    "Let's go ahead and explore some more special methods for lists:"
   ]
  },
  {
   "cell_type": "code",
   "execution_count": 43,
   "id": "36d15991-e1c6-4186-b7be-e26598e7f15c",
   "metadata": {},
   "outputs": [],
   "source": [
    "list1 = [1, 2, 3]"
   ]
  },
  {
   "cell_type": "code",
   "execution_count": 45,
   "id": "dedad8f8-d8ec-4b04-aab5-efb7ac35e2fa",
   "metadata": {},
   "outputs": [
    {
     "data": {
      "text/plain": [
       "[1, 2, 3]"
      ]
     },
     "execution_count": 45,
     "metadata": {},
     "output_type": "execute_result"
    }
   ],
   "source": [
    "list1"
   ]
  },
  {
   "cell_type": "code",
   "execution_count": 47,
   "id": "f308a3d3-fcba-4a79-91d9-7316b3f3d0e6",
   "metadata": {},
   "outputs": [],
   "source": [
    "list1.append(\"append me\")"
   ]
  },
  {
   "cell_type": "code",
   "execution_count": 49,
   "id": "951b4160-d347-41bd-8d54-02436e58e624",
   "metadata": {},
   "outputs": [
    {
     "data": {
      "text/plain": [
       "[1, 2, 3, 'append me']"
      ]
     },
     "execution_count": 49,
     "metadata": {},
     "output_type": "execute_result"
    }
   ],
   "source": [
    "list1"
   ]
  },
  {
   "cell_type": "code",
   "execution_count": 51,
   "id": "c9c64537-bce6-40b1-93f4-9b5b203c88c7",
   "metadata": {},
   "outputs": [
    {
     "data": {
      "text/plain": [
       "1"
      ]
     },
     "execution_count": 51,
     "metadata": {},
     "output_type": "execute_result"
    }
   ],
   "source": [
    "list1.pop(0)"
   ]
  },
  {
   "cell_type": "code",
   "execution_count": 53,
   "id": "abcf53cd-dc74-423e-a300-b43586a7e6ef",
   "metadata": {},
   "outputs": [
    {
     "data": {
      "text/plain": [
       "[2, 3, 'append me']"
      ]
     },
     "execution_count": 53,
     "metadata": {},
     "output_type": "execute_result"
    }
   ],
   "source": [
    "list1"
   ]
  },
  {
   "cell_type": "code",
   "execution_count": 55,
   "id": "fda35878-4328-4cb6-9e4a-9d6e23064e7f",
   "metadata": {},
   "outputs": [],
   "source": [
    "popped_item = list1.pop()"
   ]
  },
  {
   "cell_type": "code",
   "execution_count": 57,
   "id": "cd6a9279-79ab-4a8a-bb8f-78c9c00034d2",
   "metadata": {},
   "outputs": [
    {
     "data": {
      "text/plain": [
       "'append me'"
      ]
     },
     "execution_count": 57,
     "metadata": {},
     "output_type": "execute_result"
    }
   ],
   "source": [
    "popped_item"
   ]
  },
  {
   "cell_type": "code",
   "execution_count": 59,
   "id": "84a0a3f4-f1bd-42a6-98e6-55c8dc3c4dc1",
   "metadata": {},
   "outputs": [
    {
     "data": {
      "text/plain": [
       "[2, 3]"
      ]
     },
     "execution_count": 59,
     "metadata": {},
     "output_type": "execute_result"
    }
   ],
   "source": [
    "list1"
   ]
  },
  {
   "cell_type": "code",
   "execution_count": 61,
   "id": "2e5824ba-2535-42f8-924f-c7298174fad7",
   "metadata": {},
   "outputs": [
    {
     "data": {
      "text/plain": [
       "2"
      ]
     },
     "execution_count": 61,
     "metadata": {},
     "output_type": "execute_result"
    }
   ],
   "source": [
    "len(list1)"
   ]
  },
  {
   "cell_type": "code",
   "execution_count": 63,
   "id": "ed79e49c-8a02-46fe-903f-d48a029acc0a",
   "metadata": {},
   "outputs": [
    {
     "ename": "IndexError",
     "evalue": "list index out of range",
     "output_type": "error",
     "traceback": [
      "\u001b[0;31m---------------------------------------------------------------------------\u001b[0m",
      "\u001b[0;31mIndexError\u001b[0m                                Traceback (most recent call last)",
      "Cell \u001b[0;32mIn[63], line 1\u001b[0m\n\u001b[0;32m----> 1\u001b[0m list1[\u001b[38;5;241m3\u001b[39m]\n",
      "\u001b[0;31mIndexError\u001b[0m: list index out of range"
     ]
    }
   ],
   "source": [
    "list1[3]"
   ]
  },
  {
   "cell_type": "code",
   "execution_count": 65,
   "id": "52bbef04-1231-4d57-88f1-ca4416e3df15",
   "metadata": {},
   "outputs": [],
   "source": [
    "new_list = [\"a\", \"e\", \"x\", \"b\", \"c\"]"
   ]
  },
  {
   "cell_type": "code",
   "execution_count": 67,
   "id": "b5ad1770-916b-4cad-88bf-465001071f34",
   "metadata": {},
   "outputs": [
    {
     "data": {
      "text/plain": [
       "['a', 'e', 'x', 'b', 'c']"
      ]
     },
     "execution_count": 67,
     "metadata": {},
     "output_type": "execute_result"
    }
   ],
   "source": [
    "new_list"
   ]
  },
  {
   "cell_type": "code",
   "execution_count": 69,
   "id": "e1517fc4-d4bb-4a19-82bf-da01e2deaa5d",
   "metadata": {},
   "outputs": [],
   "source": [
    "new_list.reverse()"
   ]
  },
  {
   "cell_type": "code",
   "execution_count": 71,
   "id": "63764f37-1059-4173-bd12-d5f785c4d083",
   "metadata": {},
   "outputs": [
    {
     "data": {
      "text/plain": [
       "['c', 'b', 'x', 'e', 'a']"
      ]
     },
     "execution_count": 71,
     "metadata": {},
     "output_type": "execute_result"
    }
   ],
   "source": [
    "new_list"
   ]
  },
  {
   "cell_type": "code",
   "execution_count": 73,
   "id": "fd232b32-52f1-4646-b92b-f5f01c392e8f",
   "metadata": {},
   "outputs": [],
   "source": [
    "new_list.sort()"
   ]
  },
  {
   "cell_type": "code",
   "execution_count": 75,
   "id": "f248e725-d458-42a5-9b02-45a968f6ac71",
   "metadata": {},
   "outputs": [
    {
     "data": {
      "text/plain": [
       "['a', 'b', 'c', 'e', 'x']"
      ]
     },
     "execution_count": 75,
     "metadata": {},
     "output_type": "execute_result"
    }
   ],
   "source": [
    "new_list"
   ]
  },
  {
   "cell_type": "markdown",
   "id": "fb4eed08-f6c6-408d-9318-e83e621e43e4",
   "metadata": {},
   "source": [
    "## Nesting Lists\n",
    "A great feature of of Python data structures is that they support *nesting*. This means we can have data structures within data structures. For example: A list inside a list.\n",
    "\n",
    "Let's see how this works!"
   ]
  },
  {
   "cell_type": "code",
   "execution_count": 77,
   "id": "f7bdb233-51d3-41ba-9ff7-81aeafaf2b22",
   "metadata": {},
   "outputs": [],
   "source": [
    "lst_1 = [1, 2, 3]\n",
    "lst_2 = [4, 5, 6]\n",
    "lst_3 = [7, 8, 9]\n",
    "\n",
    "matrix = [lst_1, lst_2, lst_3]"
   ]
  },
  {
   "cell_type": "code",
   "execution_count": 79,
   "id": "f9425ff1-7ad7-4758-a116-a70e5d6bee7a",
   "metadata": {},
   "outputs": [
    {
     "data": {
      "text/plain": [
       "[[1, 2, 3], [4, 5, 6], [7, 8, 9]]"
      ]
     },
     "execution_count": 79,
     "metadata": {},
     "output_type": "execute_result"
    }
   ],
   "source": [
    "matrix"
   ]
  },
  {
   "cell_type": "code",
   "execution_count": 81,
   "id": "12d01acf-179e-47a7-a025-23afebcf5bd5",
   "metadata": {},
   "outputs": [
    {
     "data": {
      "text/plain": [
       "[1, 2, 3]"
      ]
     },
     "execution_count": 81,
     "metadata": {},
     "output_type": "execute_result"
    }
   ],
   "source": [
    "matrix[0]"
   ]
  },
  {
   "cell_type": "code",
   "execution_count": 83,
   "id": "8ae0d293-c314-4cbf-8aa1-aae0f3edea9f",
   "metadata": {},
   "outputs": [
    {
     "data": {
      "text/plain": [
       "1"
      ]
     },
     "execution_count": 83,
     "metadata": {},
     "output_type": "execute_result"
    }
   ],
   "source": [
    "matrix[0][0]"
   ]
  },
  {
   "cell_type": "code",
   "execution_count": 89,
   "id": "0e084e4c-2a79-40fe-95b6-1898c7db4f3e",
   "metadata": {},
   "outputs": [
    {
     "data": {
      "text/plain": [
       "9"
      ]
     },
     "execution_count": 89,
     "metadata": {},
     "output_type": "execute_result"
    }
   ],
   "source": [
    "# print out the last element in the list\n",
    "matrix[2][2]"
   ]
  },
  {
   "cell_type": "code",
   "execution_count": 85,
   "id": "43a10dbd-dd65-45a9-87a9-f3d3858af152",
   "metadata": {},
   "outputs": [
    {
     "data": {
      "text/plain": [
       "[4, 5, 6]"
      ]
     },
     "execution_count": 85,
     "metadata": {},
     "output_type": "execute_result"
    }
   ],
   "source": [
    "matrix[1]"
   ]
  },
  {
   "cell_type": "code",
   "execution_count": 87,
   "id": "08c43a31-596e-4453-a597-287da1e6f71e",
   "metadata": {},
   "outputs": [
    {
     "data": {
      "text/plain": [
       "5"
      ]
     },
     "execution_count": 87,
     "metadata": {},
     "output_type": "execute_result"
    }
   ],
   "source": [
    "matrix[1][1]"
   ]
  },
  {
   "cell_type": "markdown",
   "id": "c6b5ad76-2b6f-4a22-b12f-191ae20048b9",
   "metadata": {},
   "source": [
    "# List Comprehensions\n",
    "Python has an advanced feature called list comprehensions. They allow for quick construction of lists. To fully understand list comprehensions we need to understand for loops. So don't worry if you don't completely understand this section, and feel free to just skip it since we will return to this topic later.\n",
    "\n",
    "But in case you want to know now, here are a few examples!"
   ]
  },
  {
   "cell_type": "code",
   "execution_count": 91,
   "id": "2577f5f1-abc9-4fa7-8690-080f01ed9f85",
   "metadata": {},
   "outputs": [],
   "source": [
    "# List Comprehension\n",
    "# Matrix\n",
    "# 1 2 3\n",
    "# 4 5 6\n",
    "# 7 8 9\n",
    "\n",
    "first_col = [row[1] for row in matrix]"
   ]
  },
  {
   "cell_type": "code",
   "execution_count": 93,
   "id": "402bdcf9-5949-4e1b-9dc0-8e5991a9c8d4",
   "metadata": {},
   "outputs": [
    {
     "data": {
      "text/plain": [
       "[2, 5, 8]"
      ]
     },
     "execution_count": 93,
     "metadata": {},
     "output_type": "execute_result"
    }
   ],
   "source": [
    "first_col"
   ]
  },
  {
   "cell_type": "code",
   "execution_count": null,
   "id": "93fcb6b2-c1ba-413a-bc5a-792bbe0cb1e9",
   "metadata": {},
   "outputs": [],
   "source": []
  }
 ],
 "metadata": {
  "kernelspec": {
   "display_name": "Python 3 (ipykernel)",
   "language": "python",
   "name": "python3"
  },
  "language_info": {
   "codemirror_mode": {
    "name": "ipython",
    "version": 3
   },
   "file_extension": ".py",
   "mimetype": "text/x-python",
   "name": "python",
   "nbconvert_exporter": "python",
   "pygments_lexer": "ipython3",
   "version": "3.12.7"
  }
 },
 "nbformat": 4,
 "nbformat_minor": 5
}
