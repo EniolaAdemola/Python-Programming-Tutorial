{
 "cells": [
  {
   "cell_type": "markdown",
   "id": "e427134b-68ff-45dd-af03-0ff526925590",
   "metadata": {},
   "source": [
    "___\n",
    "\n",
    "<a href='https://www.youtube.com/@TechWithDaveworld'><img src='../TechWithDaveworldLogo.png'/></a>\n",
    "___\n",
    "<center><em>Content Copyright by Tech With Daveworld</em></center>"
   ]
  },
  {
   "cell_type": "markdown",
   "id": "19d456ce-6cf5-41e1-a7f0-e4dabe18af21",
   "metadata": {},
   "source": [
    "# Dictionaries"
   ]
  },
  {
   "cell_type": "code",
   "execution_count": 4,
   "id": "9d2a1819-252a-4915-84e7-db7e56cbaeda",
   "metadata": {},
   "outputs": [],
   "source": [
    "my_dict = {\"key1\": \"value1\", \"key2\": \"value2\"}"
   ]
  },
  {
   "cell_type": "code",
   "execution_count": 6,
   "id": "b643d4d5-6690-4b1d-88a3-1278357095b0",
   "metadata": {},
   "outputs": [
    {
     "data": {
      "text/plain": [
       "{'key1': 'value1', 'key2': 'value2'}"
      ]
     },
     "execution_count": 6,
     "metadata": {},
     "output_type": "execute_result"
    }
   ],
   "source": [
    "my_dict"
   ]
  },
  {
   "cell_type": "code",
   "execution_count": 8,
   "id": "05ab6e6e-97ad-4eb6-a5d5-6d6bf1ebcc50",
   "metadata": {},
   "outputs": [
    {
     "data": {
      "text/plain": [
       "'value2'"
      ]
     },
     "execution_count": 8,
     "metadata": {},
     "output_type": "execute_result"
    }
   ],
   "source": [
    "my_dict[\"key2\"]"
   ]
  },
  {
   "cell_type": "code",
   "execution_count": 10,
   "id": "f8eb4d28-9b69-4e6c-bcbf-eeaec49a0f77",
   "metadata": {},
   "outputs": [],
   "source": [
    "my_dict = {\"key1\": 123, \"key2\": [12, 23, 33], \"key3\":[\"item0\", \"item1\", \"item2\"]}"
   ]
  },
  {
   "cell_type": "code",
   "execution_count": 12,
   "id": "1f1e8be8-bc4d-4884-8db6-5a4f58c674c9",
   "metadata": {},
   "outputs": [
    {
     "data": {
      "text/plain": [
       "{'key1': 123, 'key2': [12, 23, 33], 'key3': ['item0', 'item1', 'item2']}"
      ]
     },
     "execution_count": 12,
     "metadata": {},
     "output_type": "execute_result"
    }
   ],
   "source": [
    "my_dict"
   ]
  },
  {
   "cell_type": "code",
   "execution_count": 14,
   "id": "f9bf4774-d20c-491e-9b72-4735055a4d5b",
   "metadata": {},
   "outputs": [
    {
     "data": {
      "text/plain": [
       "['item0', 'item1', 'item2']"
      ]
     },
     "execution_count": 14,
     "metadata": {},
     "output_type": "execute_result"
    }
   ],
   "source": [
    "my_dict[\"key3\"]"
   ]
  },
  {
   "cell_type": "code",
   "execution_count": 16,
   "id": "0bfb8ecc-9c8b-478d-9db3-e05b4bf995c4",
   "metadata": {},
   "outputs": [
    {
     "data": {
      "text/plain": [
       "'item0'"
      ]
     },
     "execution_count": 16,
     "metadata": {},
     "output_type": "execute_result"
    }
   ],
   "source": [
    "my_dict[\"key3\"][0]"
   ]
  },
  {
   "cell_type": "code",
   "execution_count": 18,
   "id": "4aa82c58-4204-4e8e-81bf-d288c747f173",
   "metadata": {},
   "outputs": [
    {
     "data": {
      "text/plain": [
       "'ITEM0'"
      ]
     },
     "execution_count": 18,
     "metadata": {},
     "output_type": "execute_result"
    }
   ],
   "source": [
    "my_dict[\"key3\"][0].upper()"
   ]
  },
  {
   "cell_type": "code",
   "execution_count": 20,
   "id": "3b655b38-63df-415f-8412-35dd1fa9bcb4",
   "metadata": {},
   "outputs": [
    {
     "data": {
      "text/plain": [
       "123"
      ]
     },
     "execution_count": 20,
     "metadata": {},
     "output_type": "execute_result"
    }
   ],
   "source": [
    "my_dict[\"key1\"]"
   ]
  },
  {
   "cell_type": "code",
   "execution_count": 22,
   "id": "6720e4f2-c909-48ac-906e-4a17dc69a8fc",
   "metadata": {},
   "outputs": [],
   "source": [
    "my_dict[\"key1\"] = my_dict[\"key1\"] - 123"
   ]
  },
  {
   "cell_type": "code",
   "execution_count": 24,
   "id": "f6c3f4ab-a82d-4051-b9a9-acd9457e952a",
   "metadata": {},
   "outputs": [
    {
     "data": {
      "text/plain": [
       "0"
      ]
     },
     "execution_count": 24,
     "metadata": {},
     "output_type": "execute_result"
    }
   ],
   "source": [
    "my_dict[\"key1\"]"
   ]
  },
  {
   "cell_type": "code",
   "execution_count": 26,
   "id": "2fef2847-995d-43be-ad8d-468bf5de036e",
   "metadata": {},
   "outputs": [],
   "source": [
    "my_dict[\"key1\"] -= 123"
   ]
  },
  {
   "cell_type": "code",
   "execution_count": 28,
   "id": "519cf116-c133-402f-b7a0-cb287420749b",
   "metadata": {},
   "outputs": [
    {
     "data": {
      "text/plain": [
       "-123"
      ]
     },
     "execution_count": 28,
     "metadata": {},
     "output_type": "execute_result"
    }
   ],
   "source": [
    "my_dict[\"key1\"]"
   ]
  },
  {
   "cell_type": "code",
   "execution_count": 30,
   "id": "e9eec2f3-f998-4187-95c8-16e82baf727a",
   "metadata": {},
   "outputs": [],
   "source": [
    "d = {}"
   ]
  },
  {
   "cell_type": "code",
   "execution_count": 32,
   "id": "e7433086-a7fb-4f45-a7c3-14a47d3fa533",
   "metadata": {},
   "outputs": [],
   "source": [
    "d[\"animal\"] = \"Dog\""
   ]
  },
  {
   "cell_type": "code",
   "execution_count": 34,
   "id": "9a104c10-c5e1-4f22-8517-32eea5d6e1c1",
   "metadata": {},
   "outputs": [
    {
     "data": {
      "text/plain": [
       "{'animal': 'Dog'}"
      ]
     },
     "execution_count": 34,
     "metadata": {},
     "output_type": "execute_result"
    }
   ],
   "source": [
    "d"
   ]
  },
  {
   "cell_type": "code",
   "execution_count": 36,
   "id": "141aa0be-98a5-4111-9af0-6967cd554ece",
   "metadata": {},
   "outputs": [],
   "source": [
    "d = {\"key1\" : {\"nestkey\": {\"subnestkey\": \"value\"}}}"
   ]
  },
  {
   "cell_type": "code",
   "execution_count": 42,
   "id": "0f2e63a8-0b56-4485-9466-b513a1209fbe",
   "metadata": {},
   "outputs": [
    {
     "data": {
      "text/plain": [
       "'value'"
      ]
     },
     "execution_count": 42,
     "metadata": {},
     "output_type": "execute_result"
    }
   ],
   "source": [
    "d[\"key1\"][\"nestkey\"][\"subnestkey\"]"
   ]
  },
  {
   "cell_type": "code",
   "execution_count": 44,
   "id": "1c9db66d-5e6a-4b07-ac09-3092abd7764d",
   "metadata": {},
   "outputs": [],
   "source": [
    "d = {\"key1\": 1, \"key2\": 2, \"key3\": 3}\n"
   ]
  },
  {
   "cell_type": "code",
   "execution_count": 46,
   "id": "f63870d0-803e-41c5-b12d-e5d0c62c874d",
   "metadata": {},
   "outputs": [
    {
     "data": {
      "text/plain": [
       "{'key1': 1, 'key2': 2, 'key3': 3}"
      ]
     },
     "execution_count": 46,
     "metadata": {},
     "output_type": "execute_result"
    }
   ],
   "source": [
    "d"
   ]
  },
  {
   "cell_type": "code",
   "execution_count": 48,
   "id": "7736d59e-58b6-4e2f-9981-d315ebcc51dc",
   "metadata": {},
   "outputs": [
    {
     "data": {
      "text/plain": [
       "dict_keys(['key1', 'key2', 'key3'])"
      ]
     },
     "execution_count": 48,
     "metadata": {},
     "output_type": "execute_result"
    }
   ],
   "source": [
    "d.keys()"
   ]
  },
  {
   "cell_type": "code",
   "execution_count": 50,
   "id": "15392d8c-98d0-438d-8bfb-a7539ed3148e",
   "metadata": {},
   "outputs": [
    {
     "data": {
      "text/plain": [
       "dict_items([('key1', 1), ('key2', 2), ('key3', 3)])"
      ]
     },
     "execution_count": 50,
     "metadata": {},
     "output_type": "execute_result"
    }
   ],
   "source": [
    "d.items()"
   ]
  },
  {
   "cell_type": "code",
   "execution_count": null,
   "id": "39e18f88-63c1-4561-838c-3fc05b9e6ef5",
   "metadata": {},
   "outputs": [],
   "source": []
  }
 ],
 "metadata": {
  "kernelspec": {
   "display_name": "Python 3 (ipykernel)",
   "language": "python",
   "name": "python3"
  },
  "language_info": {
   "codemirror_mode": {
    "name": "ipython",
    "version": 3
   },
   "file_extension": ".py",
   "mimetype": "text/x-python",
   "name": "python",
   "nbconvert_exporter": "python",
   "pygments_lexer": "ipython3",
   "version": "3.12.7"
  }
 },
 "nbformat": 4,
 "nbformat_minor": 5
}
