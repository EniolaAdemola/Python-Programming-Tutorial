{
 "cells": [
  {
   "cell_type": "markdown",
   "id": "19ce3e60-41fe-456a-8743-ff7273c65c84",
   "metadata": {},
   "source": [
    "___\n",
    "\n",
    "<a href='https://www.youtube.com/@TechWithDaveworld'><img src='../TechWithDaveworldLogo.png'/></a>\n",
    "___\n",
    "<center><em>Content Copyright by Tech With Daveworld</em></center>"
   ]
  },
  {
   "cell_type": "markdown",
   "id": "4927d4d0-710d-4f3e-935f-6c877507db4e",
   "metadata": {},
   "source": [
    "# While loops"
   ]
  },
  {
   "cell_type": "code",
   "execution_count": 5,
   "id": "294992ae-eb2d-4a83-8858-9639f64eb4db",
   "metadata": {
    "scrolled": true
   },
   "outputs": [
    {
     "name": "stdout",
     "output_type": "stream",
     "text": [
      "x is currently:  0\n",
      "X is still less than 10, adding 1 to x\n",
      "x is currently:  1\n",
      "X is still less than 10, adding 1 to x\n",
      "x is currently:  2\n",
      "X is still less than 10, adding 1 to x\n",
      "x is currently:  3\n",
      "X is still less than 10, adding 1 to x\n",
      "x is currently:  4\n",
      "X is still less than 10, adding 1 to x\n",
      "x is currently:  5\n",
      "X is still less than 10, adding 1 to x\n",
      "x is currently:  6\n",
      "X is still less than 10, adding 1 to x\n",
      "x is currently:  7\n",
      "X is still less than 10, adding 1 to x\n",
      "x is currently:  8\n",
      "X is still less than 10, adding 1 to x\n",
      "x is currently:  9\n",
      "X is still less than 10, adding 1 to x\n"
     ]
    }
   ],
   "source": [
    "x = 0\n",
    "\n",
    "while x < 10:\n",
    "    print(\"x is currently: \", x)\n",
    "    print(\"X is still less than 10, adding 1 to x\")\n",
    "    x += 1\n",
    "    "
   ]
  },
  {
   "cell_type": "code",
   "execution_count": 9,
   "id": "fd44806f-d733-4de8-bc80-a786268a60df",
   "metadata": {},
   "outputs": [
    {
     "name": "stdout",
     "output_type": "stream",
     "text": [
      "5 * 1 = 5\n",
      "5 * 2 = 10\n",
      "5 * 3 = 15\n",
      "5 * 4 = 20\n",
      "5 * 5 = 25\n",
      "5 * 6 = 30\n",
      "5 * 7 = 35\n",
      "5 * 8 = 40\n",
      "5 * 9 = 45\n",
      "5 * 10 = 50\n",
      "5 * 11 = 55\n",
      "5 * 12 = 60\n"
     ]
    }
   ],
   "source": [
    "# print out the 5 multiplication table\n",
    "\n",
    "mul = 5\n",
    "max_num = 12\n",
    "start_point = 1\n",
    "\n",
    "while start_point <= max_num:\n",
    "    ans = mul * start_point\n",
    "    print(f\"{mul} * {start_point} = {ans}\")\n",
    "    start_point += 1\n"
   ]
  },
  {
   "cell_type": "markdown",
   "id": "893a9286-9569-41a9-85cf-c41366211bf6",
   "metadata": {},
   "source": [
    "## Break, continue"
   ]
  },
  {
   "cell_type": "code",
   "execution_count": 14,
   "id": "bf7d664d-c93a-4afb-bd01-de1d4a1da539",
   "metadata": {},
   "outputs": [
    {
     "name": "stdout",
     "output_type": "stream",
     "text": [
      "x is currently.  0\n",
      "X is still less than 10, adding 1 to x\n",
      "Continuing...\n",
      "x is currently.  1\n",
      "X is still less than 10, adding 1 to x\n",
      "Continuing...\n",
      "x is currently.  2\n",
      "X is still less than 10, adding 1 to x\n",
      "x==3\n",
      "x is currently.  3\n",
      "X is still less than 10, adding 1 to x\n",
      "Continuing...\n",
      "x is currently.  4\n",
      "X is still less than 10, adding 1 to x\n",
      "Continuing...\n",
      "x is currently.  5\n",
      "X is still less than 10, adding 1 to x\n",
      "Continuing...\n",
      "x is currently.  6\n",
      "X is still less than 10, adding 1 to x\n",
      "Continuing...\n",
      "x is currently.  7\n",
      "X is still less than 10, adding 1 to x\n",
      "Continuing...\n",
      "x is currently.  8\n",
      "X is still less than 10, adding 1 to x\n",
      "Continuing...\n",
      "x is currently.  9\n",
      "X is still less than 10, adding 1 to x\n",
      "Continuing...\n"
     ]
    }
   ],
   "source": [
    "x = 0\n",
    "\n",
    "while x < 10:\n",
    "    print(\"x is currently. \", x)\n",
    "    print(\"X is still less than 10, adding 1 to x\")\n",
    "    x += 1\n",
    "    if x == 3:\n",
    "        print(\"x==3\")\n",
    "    else: \n",
    "        print(\"Continuing...\")\n",
    "        continue"
   ]
  },
  {
   "cell_type": "code",
   "execution_count": 20,
   "id": "b33a76fd-38df-4d6a-b44b-e143a5a36ede",
   "metadata": {},
   "outputs": [
    {
     "data": {
      "text/plain": [
       "10"
      ]
     },
     "execution_count": 20,
     "metadata": {},
     "output_type": "execute_result"
    }
   ],
   "source": [
    "x"
   ]
  },
  {
   "cell_type": "code",
   "execution_count": 22,
   "id": "33265f67-6e66-40bb-bdb1-7d78f47e7d06",
   "metadata": {},
   "outputs": [
    {
     "name": "stdout",
     "output_type": "stream",
     "text": [
      "x is currently.  0\n",
      "X is still less than 10, adding 1 to x\n",
      "Continuing...\n",
      "x is currently.  1\n",
      "X is still less than 10, adding 1 to x\n",
      "Continuing...\n",
      "x is currently.  2\n",
      "X is still less than 10, adding 1 to x\n",
      "x==3\n"
     ]
    }
   ],
   "source": [
    "x = 0\n",
    "\n",
    "while x < 10:\n",
    "    print(\"x is currently. \", x)\n",
    "    print(\"X is still less than 10, adding 1 to x\")\n",
    "    x += 1\n",
    "    if x == 3:\n",
    "        print(\"x==3\")\n",
    "        break\n",
    "    else: \n",
    "        print(\"Continuing...\")\n",
    "        continue"
   ]
  }
 ],
 "metadata": {
  "kernelspec": {
   "display_name": "Python [conda env:base] *",
   "language": "python",
   "name": "conda-base-py"
  },
  "language_info": {
   "codemirror_mode": {
    "name": "ipython",
    "version": 3
   },
   "file_extension": ".py",
   "mimetype": "text/x-python",
   "name": "python",
   "nbconvert_exporter": "python",
   "pygments_lexer": "ipython3",
   "version": "3.12.7"
  }
 },
 "nbformat": 4,
 "nbformat_minor": 5
}
