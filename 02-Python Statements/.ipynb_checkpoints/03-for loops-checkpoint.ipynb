{
 "cells": [
  {
   "cell_type": "markdown",
   "id": "01d27716-f02a-4b49-b1f0-c26c93413d13",
   "metadata": {},
   "source": [
    "___\n",
    "\n",
    "<a href='https://www.youtube.com/@TechWithDaveworld'><img src='../TechWithDaveworldLogo.png'/></a>\n",
    "___\n",
    "<center><em>Content Copyright by Tech With Daveworld</em></center>"
   ]
  },
  {
   "cell_type": "markdown",
   "id": "bbcda8f6-229a-4e8c-b561-e485d3084e56",
   "metadata": {},
   "source": [
    "# For Loops\n",
    "for item in object:\n",
    "\n",
    "    statement to do stuffs"
   ]
  },
  {
   "cell_type": "markdown",
   "id": "90400799-2f00-4b1f-8d0e-e0f41cece801",
   "metadata": {},
   "source": [
    "## Example 1\n",
    "\n",
    "iterate through a list"
   ]
  },
  {
   "cell_type": "code",
   "execution_count": 5,
   "id": "ca48ccac-4c52-497a-a326-3c9659e0ef39",
   "metadata": {},
   "outputs": [],
   "source": [
    "list1 = [1, 2, 3, 4, 5, 6, 7, 8, 9, 10]"
   ]
  },
  {
   "cell_type": "code",
   "execution_count": 7,
   "id": "d04b9bb1-6051-462e-9a11-0ad6cc4fb963",
   "metadata": {},
   "outputs": [
    {
     "data": {
      "text/plain": [
       "1"
      ]
     },
     "execution_count": 7,
     "metadata": {},
     "output_type": "execute_result"
    }
   ],
   "source": [
    "list1[0]"
   ]
  },
  {
   "cell_type": "code",
   "execution_count": 9,
   "id": "6976d9c7-ab6d-4bd2-b849-b4fa210449b8",
   "metadata": {},
   "outputs": [
    {
     "data": {
      "text/plain": [
       "2"
      ]
     },
     "execution_count": 9,
     "metadata": {},
     "output_type": "execute_result"
    }
   ],
   "source": [
    "list1[1]"
   ]
  },
  {
   "cell_type": "code",
   "execution_count": 11,
   "id": "d778bdfa-f03b-466e-b0d9-73784219e036",
   "metadata": {},
   "outputs": [
    {
     "name": "stdout",
     "output_type": "stream",
     "text": [
      "1\n",
      "2\n",
      "3\n",
      "4\n",
      "5\n",
      "6\n",
      "7\n",
      "8\n",
      "9\n",
      "10\n"
     ]
    }
   ],
   "source": [
    "for num in list1:\n",
    "    print(num)"
   ]
  },
  {
   "cell_type": "code",
   "execution_count": 15,
   "id": "6d164509-2734-4fff-b4bb-fd7314ce1d62",
   "metadata": {},
   "outputs": [
    {
     "data": {
      "text/plain": [
       "0"
      ]
     },
     "execution_count": 15,
     "metadata": {},
     "output_type": "execute_result"
    }
   ],
   "source": [
    "10 % 2"
   ]
  },
  {
   "cell_type": "code",
   "execution_count": 17,
   "id": "60bb4be4-8f69-465c-9186-aeb3250bac8c",
   "metadata": {},
   "outputs": [
    {
     "data": {
      "text/plain": [
       "1"
      ]
     },
     "execution_count": 17,
     "metadata": {},
     "output_type": "execute_result"
    }
   ],
   "source": [
    "7 % 2"
   ]
  },
  {
   "cell_type": "markdown",
   "id": "9e1e80f0-e83b-4497-b7b0-7be78c149bf5",
   "metadata": {},
   "source": [
    "## Example 2\n",
    "\n",
    "Print out the even numbers and odd numbers in the list"
   ]
  },
  {
   "cell_type": "code",
   "execution_count": 23,
   "id": "63e001fc-3e9a-44ba-bace-e19735d929b7",
   "metadata": {},
   "outputs": [
    {
     "name": "stdout",
     "output_type": "stream",
     "text": [
      "The number 1 is an odd number\n",
      "The number 2 is an even number\n",
      "The number 3 is an odd number\n",
      "The number 4 is an even number\n",
      "The number 5 is an odd number\n",
      "The number 6 is an even number\n",
      "The number 7 is an odd number\n",
      "The number 8 is an even number\n",
      "The number 9 is an odd number\n",
      "The number 10 is an even number\n"
     ]
    }
   ],
   "source": [
    "for num in list1:\n",
    "    if num % 2 == 0:\n",
    "        print(f\"The number {num} is an even number\")\n",
    "    else:\n",
    "        print(f\"The number {num} is an odd number\")"
   ]
  },
  {
   "cell_type": "markdown",
   "id": "f593b495-820e-4e15-936d-b0bb1033a7d8",
   "metadata": {},
   "source": [
    "## Example 3\n",
    "\n",
    "Add all the items in the list together and display the result"
   ]
  },
  {
   "cell_type": "code",
   "execution_count": 26,
   "id": "a3d63675-7bca-4fbc-b2ca-f9bbe4a6286e",
   "metadata": {},
   "outputs": [
    {
     "data": {
      "text/plain": [
       "[1, 2, 3, 4, 5, 6, 7, 8, 9, 10]"
      ]
     },
     "execution_count": 26,
     "metadata": {},
     "output_type": "execute_result"
    }
   ],
   "source": [
    "list1"
   ]
  },
  {
   "cell_type": "code",
   "execution_count": 36,
   "id": "7863a921-dd4a-4dd2-93af-5201d262802d",
   "metadata": {},
   "outputs": [],
   "source": [
    "list_sum = 0\n",
    "\n",
    "for num in list1:\n",
    "    list_sum = list_sum + num"
   ]
  },
  {
   "cell_type": "code",
   "execution_count": 64,
   "id": "42c38f60-b4d9-46ad-a19e-d29992d2ee25",
   "metadata": {},
   "outputs": [
    {
     "data": {
      "text/plain": [
       "55"
      ]
     },
     "execution_count": 64,
     "metadata": {},
     "output_type": "execute_result"
    }
   ],
   "source": [
    "new_sum = 0\n",
    "\n",
    "for num in list1:\n",
    "    new_sum += num\n",
    "\n",
    "new_sum"
   ]
  },
  {
   "cell_type": "code",
   "execution_count": 38,
   "id": "278ca650-507e-4940-af59-a9b730f7a22d",
   "metadata": {},
   "outputs": [
    {
     "name": "stdout",
     "output_type": "stream",
     "text": [
      "55\n"
     ]
    }
   ],
   "source": [
    "print(list_sum)"
   ]
  },
  {
   "cell_type": "markdown",
   "id": "88919ca1-1a98-4872-b97b-6440fc05eedd",
   "metadata": {},
   "source": [
    "## Example 4\n",
    "\n",
    "Let's see how we can use for loops with strings"
   ]
  },
  {
   "cell_type": "code",
   "execution_count": 41,
   "id": "2d0ed79c-2f00-428f-bc27-2d5dd858b142",
   "metadata": {},
   "outputs": [
    {
     "name": "stdout",
     "output_type": "stream",
     "text": [
      "T\n",
      "h\n",
      "i\n",
      "s\n",
      " \n",
      "i\n",
      "s\n",
      " \n",
      "a\n",
      " \n",
      "s\n",
      "t\n",
      "r\n",
      "i\n",
      "n\n",
      "g\n"
     ]
    }
   ],
   "source": [
    "for letter in \"This is a string\":\n",
    "    print(letter)"
   ]
  },
  {
   "cell_type": "markdown",
   "id": "cc8b0c1d-6312-4f1b-ba19-30de8f02b5b6",
   "metadata": {},
   "source": [
    "## Example 5\n",
    "\n",
    "iterate through a tuple and print out the items there"
   ]
  },
  {
   "cell_type": "code",
   "execution_count": 46,
   "id": "7ebd4406-788a-4798-9f80-cd5de7a454d9",
   "metadata": {},
   "outputs": [
    {
     "name": "stdout",
     "output_type": "stream",
     "text": [
      "1\n",
      "2\n",
      "3\n",
      "4\n",
      "5\n"
     ]
    }
   ],
   "source": [
    "tup = (1, 2, 3, 4, 5)\n",
    "\n",
    "for t in tup:\n",
    "    print(t)"
   ]
  },
  {
   "cell_type": "markdown",
   "id": "3aaaa1a9-7c1b-4b4f-92d3-c10ab496030f",
   "metadata": {},
   "source": [
    "## Example 6\n",
    "\n",
    "print out all the sum of the even numbers and the odd numbers in a list"
   ]
  },
  {
   "cell_type": "code",
   "execution_count": 50,
   "id": "1c204407-701f-4125-8947-681fd0a371c0",
   "metadata": {},
   "outputs": [
    {
     "data": {
      "text/plain": [
       "[1, 2, 3, 4, 5, 6, 7, 8, 9, 10]"
      ]
     },
     "execution_count": 50,
     "metadata": {},
     "output_type": "execute_result"
    }
   ],
   "source": [
    "list1"
   ]
  },
  {
   "cell_type": "code",
   "execution_count": 62,
   "id": "ac2a8e58-529c-4255-bd29-729de82c50b6",
   "metadata": {},
   "outputs": [
    {
     "data": {
      "text/plain": [
       "30"
      ]
     },
     "execution_count": 62,
     "metadata": {},
     "output_type": "execute_result"
    }
   ],
   "source": [
    "# doing this the manual way\n",
    "\n",
    "list1[1] + list1[3] + list1[5] + list1[7] + list1[9]"
   ]
  },
  {
   "cell_type": "code",
   "execution_count": 60,
   "id": "b1f88f3a-eaaa-4d20-9aaa-91b46afe8161",
   "metadata": {},
   "outputs": [
    {
     "data": {
      "text/plain": [
       "25"
      ]
     },
     "execution_count": 60,
     "metadata": {},
     "output_type": "execute_result"
    }
   ],
   "source": [
    "# doing this the manual way\n",
    "\n",
    "list1[0] + list1[2] + list1[4] + list1[6] + list1[8]"
   ]
  },
  {
   "cell_type": "code",
   "execution_count": 68,
   "id": "7a39ee49-b164-4b3e-b61f-c70e3971c14e",
   "metadata": {},
   "outputs": [
    {
     "name": "stdout",
     "output_type": "stream",
     "text": [
      "Total even sum is: 30\n",
      "Total odd sum is: 25\n"
     ]
    }
   ],
   "source": [
    "# Using for loop approach\n",
    "even_sum = 0\n",
    "odd_sum = 0\n",
    "\n",
    "for num in list1:\n",
    "    if num % 2 == 0:\n",
    "        even_sum += num  #same as: even_sum = even_sum + num\n",
    "    else:\n",
    "        odd_sum += num\n",
    "\n",
    "print(f\"Total even sum is: {even_sum}\")\n",
    "print(f\"Total odd sum is: {odd_sum}\")"
   ]
  },
  {
   "cell_type": "code",
   "execution_count": 70,
   "id": "13632d96-51a4-4b25-b73d-3941bc894b32",
   "metadata": {},
   "outputs": [],
   "source": [
    "list1 = [1, 2, 3, 4, 7, 5, 6, 7, 8, 9, 10]"
   ]
  },
  {
   "cell_type": "code",
   "execution_count": 72,
   "id": "15d0cde4-35b9-45ad-a2d3-3d9523772c75",
   "metadata": {},
   "outputs": [
    {
     "data": {
      "text/plain": [
       "27"
      ]
     },
     "execution_count": 72,
     "metadata": {},
     "output_type": "execute_result"
    }
   ],
   "source": [
    "list1[1] + list1[3] + list1[5] + list1[7] + list1[9]"
   ]
  },
  {
   "cell_type": "code",
   "execution_count": 74,
   "id": "a75608e7-2e62-43c5-be7a-f8e03c865126",
   "metadata": {},
   "outputs": [
    {
     "data": {
      "text/plain": [
       "25"
      ]
     },
     "execution_count": 74,
     "metadata": {},
     "output_type": "execute_result"
    }
   ],
   "source": [
    "list1[0] + list1[2] + list1[4] + list1[6] + list1[8]"
   ]
  },
  {
   "cell_type": "code",
   "execution_count": 76,
   "id": "fbfffd9e-5abe-4217-be0f-2f51604ff8cf",
   "metadata": {},
   "outputs": [
    {
     "name": "stdout",
     "output_type": "stream",
     "text": [
      "Total even sum is: 30\n",
      "Total odd sum is: 32\n"
     ]
    }
   ],
   "source": [
    "# Using for loop approach\n",
    "even_sum = 0\n",
    "odd_sum = 0\n",
    "\n",
    "for num in list1:\n",
    "    if num % 2 == 0:\n",
    "        even_sum += num  #same as: even_sum = even_sum + num\n",
    "    else:\n",
    "        odd_sum += num\n",
    "\n",
    "print(f\"Total even sum is: {even_sum}\")\n",
    "print(f\"Total odd sum is: {odd_sum}\")"
   ]
  }
 ],
 "metadata": {
  "kernelspec": {
   "display_name": "Python [conda env:base] *",
   "language": "python",
   "name": "conda-base-py"
  },
  "language_info": {
   "codemirror_mode": {
    "name": "ipython",
    "version": 3
   },
   "file_extension": ".py",
   "mimetype": "text/x-python",
   "name": "python",
   "nbconvert_exporter": "python",
   "pygments_lexer": "ipython3",
   "version": "3.12.7"
  }
 },
 "nbformat": 4,
 "nbformat_minor": 5
}
