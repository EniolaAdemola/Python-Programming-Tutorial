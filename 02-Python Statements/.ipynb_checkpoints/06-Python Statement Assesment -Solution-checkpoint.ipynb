{
 "cells": [
  {
   "cell_type": "markdown",
   "id": "63d70272-a65c-484c-9e25-0ffa047663bd",
   "metadata": {},
   "source": [
    "___\n",
    "\n",
    "<a href='https://www.youtube.com/@TechWithDaveworld'><img src='../TechWithDaveworldLogo.png'/></a>\n",
    "___\n",
    "<center><em>Content Copyright by Tech With Daveworld</em></center>"
   ]
  },
  {
   "cell_type": "markdown",
   "id": "98a4c075-f97c-49bc-aea6-66eaf6ba02da",
   "metadata": {},
   "source": [
    "# 🐍 Python Beginner Exercises\n",
    "\n",
    "Welcome to your Python practice session!\n",
    "\n",
    "These exercises are designed to help you practice **Python control flow statements** such as:\n",
    "- `if`\n",
    "- `else`\n",
    "- `elif`\n",
    "- `while` loops\n",
    "- `for` loops\n",
    "\n",
    "---\n",
    "\n",
    "⚠ **IMPORTANT RULES**  \n",
    "- ❌ Do **NOT** use any AI tools (like ChatGPT, Gemini, Copilot, etc.) to solve these problems.  \n",
    "- ✅ Try as much as possible to write the code yourself.\n",
    "- ✅ You are allowed to use:\n",
    "  - Google search (to check Python syntax or search for examples)\n",
    "  - Python documentation (provided for you in class)\n",
    "  - Your class notes and materials\n",
    "  - Python lectures available on the youtube channel\n",
    "\n",
    "💡 The goal is for you to develop problem-solving skills, not just to get the answer.\n",
    "\n",
    "---"
   ]
  },
  {
   "cell_type": "markdown",
   "id": "6bbaef55-d180-4433-ad5a-4b44d257def1",
   "metadata": {},
   "source": [
    "## **Exercise 1: Even or Odd Counter (Using for loop and if statements)**\n",
    "\n",
    "### Task:\n",
    "Write a Python program that:\n",
    "\n",
    "1. Asks the user to enter a positive integer (N).\n",
    "2. The program then prints all numbers from 1 to N.\n",
    "3. For each number, it prints whether the number is `\"Even\"` or `\"Odd\"`.\n",
    "\n",
    "### Example Output:\n",
    "\n",
    "Enter a positive integer: 5\n",
    "\n",
    "- 1 is Odd\n",
    "- 2 is Even\n",
    "- 3 is Odd\n",
    "- 4 is Even\n",
    "- 5 is Odd\n",
    "  \n",
    "### Hints:\n",
    "- Use a `for` loop to loop through numbers from 1 to N.\n",
    "- Use the modulo operator `%` to check if a number is even or odd."
   ]
  },
  {
   "cell_type": "code",
   "execution_count": 49,
   "id": "cf5c70be-dfa6-4f1e-8b8b-af0aae3a50b8",
   "metadata": {},
   "outputs": [
    {
     "name": "stdout",
     "output_type": "stream",
     "text": [
      "1\n",
      "2\n",
      "3\n",
      "4\n",
      "5\n",
      "6\n",
      "7\n",
      "8\n",
      "9\n",
      "10\n"
     ]
    }
   ],
   "source": [
    "num = 10\n",
    "for i in range (1, num + 1):\n",
    "    print(i)"
   ]
  },
  {
   "cell_type": "code",
   "execution_count": 51,
   "id": "28622c80-45d8-44ca-a3be-9382f81236dc",
   "metadata": {},
   "outputs": [
    {
     "name": "stdin",
     "output_type": "stream",
     "text": [
      "Enter a positive integer:  5\n"
     ]
    },
    {
     "name": "stdout",
     "output_type": "stream",
     "text": [
      "1 is odd\n",
      "2 is Even\n",
      "3 is odd\n",
      "4 is Even\n",
      "5 is odd\n"
     ]
    }
   ],
   "source": [
    "# Prompt the user to enter a positive integer\n",
    "n = int(input(\"Enter a positive integer: \"))\n",
    "\n",
    "# loop through number from 1 to n\n",
    "for i in range(1, n + 1):\n",
    "    if i % 2 == 0:\n",
    "        print(f\"{i} is Even\")\n",
    "    else:\n",
    "        print(f\"{i} is odd\")\n"
   ]
  },
  {
   "cell_type": "markdown",
   "id": "c30948f9-dce8-4683-b893-70637ec868fd",
   "metadata": {},
   "source": [
    "## **Exercise 2: Simple ATM Simulation (Using while loop, if, elif, else)**\n",
    "\n",
    "### Task:\n",
    "Write a Python program that simulates a very basic ATM system.\n",
    "\n",
    "1. Set the initial account balance to $1000.\n",
    "2. Display the following menu to the user:\n",
    "\n",
    "\n",
    "Welcome to the ATM!\n",
    "\n",
    "Check Balance\n",
    "\n",
    "Deposit\n",
    "\n",
    "Withdraw\n",
    "\n",
    "Exit\n",
    "\n",
    "\n",
    "\n",
    "3. Use a `while` loop to keep showing the menu until the user chooses to exit.\n",
    "4. If the user selects:\n",
    "   - `1`: Print the current balance.\n",
    "   - `2`: Ask for deposit amount and add it to the balance.\n",
    "   - `3`: Ask for withdrawal amount. If there is enough balance, subtract it. If not, print `\"Insufficient funds.\"`\n",
    "   - `4`: Exit the program.\n",
    "5. If the user enters an invalid option, print `\"Invalid option, please try again.\"`\n",
    "\n",
    "### Hints:\n",
    "- Use `int(input(\"...\"))` to get user input.\n",
    "- Use `if`, `elif`, and `else` statements to handle choices.\n",
    "\n",
    "\n"
   ]
  },
  {
   "cell_type": "code",
   "execution_count": 60,
   "id": "b3ffc381-5ec2-49c5-a619-4aaf95f87d07",
   "metadata": {},
   "outputs": [
    {
     "name": "stdout",
     "output_type": "stream",
     "text": [
      "\n",
      "Welcome to the ATM!\n",
      "1. Check Balance\n",
      "2. Deposit to your bank\n",
      "3. Withdraw from your account\n",
      "4. Exit\n"
     ]
    },
    {
     "name": "stdin",
     "output_type": "stream",
     "text": [
      "Please select an option (1-4):  1\n"
     ]
    },
    {
     "name": "stdout",
     "output_type": "stream",
     "text": [
      "Your current balance is $1000\n",
      "\n",
      "Welcome to the ATM!\n",
      "1. Check Balance\n",
      "2. Deposit to your bank\n",
      "3. Withdraw from your account\n",
      "4. Exit\n"
     ]
    },
    {
     "name": "stdin",
     "output_type": "stream",
     "text": [
      "Please select an option (1-4):  3\n",
      "Enter the amount to withdraw: $ 200\n"
     ]
    },
    {
     "name": "stdout",
     "output_type": "stream",
     "text": [
      "$200.0 withdrawn successsfully\n",
      "New balance $800.0\n",
      "\n",
      "Welcome to the ATM!\n",
      "1. Check Balance\n",
      "2. Deposit to your bank\n",
      "3. Withdraw from your account\n",
      "4. Exit\n"
     ]
    },
    {
     "name": "stdin",
     "output_type": "stream",
     "text": [
      "Please select an option (1-4):  1\n"
     ]
    },
    {
     "name": "stdout",
     "output_type": "stream",
     "text": [
      "Your current balance is $800.0\n",
      "\n",
      "Welcome to the ATM!\n",
      "1. Check Balance\n",
      "2. Deposit to your bank\n",
      "3. Withdraw from your account\n",
      "4. Exit\n"
     ]
    },
    {
     "name": "stdin",
     "output_type": "stream",
     "text": [
      "Please select an option (1-4):  2\n",
      "Enter amount to deposit: $ 2000\n"
     ]
    },
    {
     "name": "stdout",
     "output_type": "stream",
     "text": [
      "$2000.0 deposited succesfully.\n",
      "Your balance: $2800.0\n",
      "\n",
      "Welcome to the ATM!\n",
      "1. Check Balance\n",
      "2. Deposit to your bank\n",
      "3. Withdraw from your account\n",
      "4. Exit\n"
     ]
    },
    {
     "name": "stdin",
     "output_type": "stream",
     "text": [
      "Please select an option (1-4):  3\n",
      "Enter the amount to withdraw: $ 3000\n"
     ]
    },
    {
     "name": "stdout",
     "output_type": "stream",
     "text": [
      "Insufficient funds\n",
      "\n",
      "Welcome to the ATM!\n",
      "1. Check Balance\n",
      "2. Deposit to your bank\n",
      "3. Withdraw from your account\n",
      "4. Exit\n"
     ]
    },
    {
     "name": "stdin",
     "output_type": "stream",
     "text": [
      "Please select an option (1-4):  4\n"
     ]
    },
    {
     "name": "stdout",
     "output_type": "stream",
     "text": [
      "Thank you for using the ATM. Goodbye!\n"
     ]
    }
   ],
   "source": [
    "# Set the account balance\n",
    "balance = 1000\n",
    "\n",
    "while True:\n",
    "    # Display the menu\n",
    "    print(\"\\nWelcome to the ATM!\")\n",
    "    print(\"1. Check Balance\")\n",
    "    print(\"2. Deposit to your bank\")\n",
    "    print(\"3. Withdraw from your account\")\n",
    "    print(\"4. Exit\")\n",
    "\n",
    "    # Get the user choce\n",
    "    choice = input(\"Please select an option (1-4): \")\n",
    "\n",
    "    # Check for the first choice\n",
    "    if choice == \"1\":\n",
    "        print(f\"Your current balance is ${balance}\")\n",
    "        \n",
    "    # Handle logic to deposit account \n",
    "    elif choice == \"2\":\n",
    "        deposit_amount = float(input(\"Enter amount to deposit: $\"))\n",
    "        # check logic for deposit amount larger than 0\n",
    "        if deposit_amount > 0:\n",
    "            balance += deposit_amount\n",
    "            print(f\"${deposit_amount} deposited succesfully.\")\n",
    "            print(f\"Your balance: ${balance}\")\n",
    "        else:\n",
    "            print(\"Invalid deposit deposit amount.\")\n",
    "    \n",
    "    # Handle logic to withdraw from the bank\n",
    "    elif choice == \"3\":\n",
    "        withdraw_amount = float(input(\"Enter the amount to withdraw: $\"))\n",
    "        if withdraw_amount > balance:\n",
    "            print(\"Insufficient funds\")\n",
    "        elif withdraw_amount <= 0:\n",
    "            print(\"Invalid withdraw amount.\")\n",
    "        else:\n",
    "            balance -= withdraw_amount\n",
    "            print(f\"${withdraw_amount} withdrawn successsfully\")\n",
    "            print(f\"New balance ${balance}\")\n",
    "\n",
    "    # handle logic to exit from the ATM machine\n",
    "    elif choice == \"4\":\n",
    "        print(\"Thank you for using the ATM. Goodbye!\")\n",
    "        break\n",
    "\n",
    "    else:\n",
    "        print(\"Invalid option, please try again\")\n",
    "        "
   ]
  },
  {
   "cell_type": "markdown",
   "id": "07ff02e1-3f38-4d30-a273-b1340041891b",
   "metadata": {},
   "source": [
    "---\n",
    "\n",
    "## **Exercise 3: Guessing Game**\n",
    "\n",
    "### Task:\n",
    "Create a number guessing game where:\n",
    "\n",
    "1. The computer randomly selects a number between 1 and 50.\n",
    "2. The user tries to guess the number.\n",
    "3. If the guess is out of range (not between 1 and 50), print `\"OUT OF BOUNDS\"`.\n",
    "4. If the guess is correct, print `\"Congratulations! You guessed the number!\"` and how many guesses it took.\n",
    "5. If it's the first guess and within 5 numbers of the correct answer, print `\"WARM!\"` else print `\"COLD!\"`.\n",
    "6. For subsequent guesses:\n",
    "   - If the guess is closer than the previous guess, print `\"WARMER!\"`.\n",
    "   - If the guess is farther than the previous guess, print `\"COLDER!\"`.\n",
    "7. Keep looping until the user guesses correctly.\n",
    "\n",
    "### Hints:\n",
    "- Use `random.randint(1, 50)` to generate the random number.\n",
    "- Use `abs()` to calculate the distance between guesses.\n",
    "\n",
    "---"
   ]
  },
  {
   "cell_type": "code",
   "execution_count": 77,
   "id": "38000b7c-1d74-4f3b-b351-5c64fea873b7",
   "metadata": {},
   "outputs": [
    {
     "name": "stdout",
     "output_type": "stream",
     "text": [
      "Welcome to the Guessing Game!\n",
      "I'm thinking of a number between 1 and 50.\n"
     ]
    },
    {
     "name": "stdin",
     "output_type": "stream",
     "text": [
      "Enter your guess:  35\n"
     ]
    },
    {
     "name": "stdout",
     "output_type": "stream",
     "text": [
      "COLD\n"
     ]
    },
    {
     "name": "stdin",
     "output_type": "stream",
     "text": [
      "Enter your guess:  34\n"
     ]
    },
    {
     "name": "stdout",
     "output_type": "stream",
     "text": [
      "WARMER\n"
     ]
    },
    {
     "name": "stdin",
     "output_type": "stream",
     "text": [
      "Enter your guess:  20\n"
     ]
    },
    {
     "name": "stdout",
     "output_type": "stream",
     "text": [
      "Congratulations! You gussed the number in 3 guesses!\n"
     ]
    }
   ],
   "source": [
    "import random\n",
    "\n",
    "number = random.randint(1, 50)\n",
    "\n",
    "print(\"Welcome to the Guessing Game!\")\n",
    "print(\"I'm thinking of a number between 1 and 50.\")\n",
    "\n",
    "guesses = []\n",
    "\n",
    "while True:\n",
    "    # Take the users guess\n",
    "    guess = int(input(\"Enter your guess: \"))\n",
    "\n",
    "    # check if the guess is out of bounds\n",
    "    if guess < 1 or guess > 50:\n",
    "        print(\"OUT OF BOUNDS\")\n",
    "        continue\n",
    "\n",
    "    guesses.append(guess)\n",
    "\n",
    "    # check if guess is correct\n",
    "    if guess == number:\n",
    "        print(f\"Congratulations! You gussed the number in {len(guesses)} guesses!\")\n",
    "        break\n",
    "\n",
    "    # first guess logic\n",
    "    if len(guesses) == 1:\n",
    "        if abs(guess - number) <= 5:\n",
    "            print(\"WARM\")\n",
    "        else:\n",
    "            print(\"COLD\")\n",
    "\n",
    "    # check if it isn't first guess and compare with previous guess\n",
    "    # e.g. guess = 20\n",
    "    # first guess -> 25\n",
    "    # second guess -> 30\n",
    "    #  abs(30 - 20) < abs(guesses[-2](25) - 20)\n",
    "        # 10 < 5\n",
    "\n",
    "    else:\n",
    "        if abs(guess - number) < abs(guesses[-2] - number):\n",
    "            print(\"WARMER\")\n",
    "        else:\n",
    "            print(\"COLDER\")\n",
    "    "
   ]
  },
  {
   "cell_type": "markdown",
   "id": "0afc58e8-7ed0-4aec-b701-4b3c8a384b48",
   "metadata": {},
   "source": [
    "---\n",
    "\n",
    "🚀 **Congratulations!**"
   ]
  }
 ],
 "metadata": {
  "kernelspec": {
   "display_name": "Python 3 (ipykernel)",
   "language": "python",
   "name": "python3"
  },
  "language_info": {
   "codemirror_mode": {
    "name": "ipython",
    "version": 3
   },
   "file_extension": ".py",
   "mimetype": "text/x-python",
   "name": "python",
   "nbconvert_exporter": "python",
   "pygments_lexer": "ipython3",
   "version": "3.12.7"
  }
 },
 "nbformat": 4,
 "nbformat_minor": 5
}
