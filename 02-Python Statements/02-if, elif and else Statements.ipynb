{
 "cells": [
  {
   "cell_type": "markdown",
   "id": "10b55776-b855-446b-bffb-5e1c1eb5b972",
   "metadata": {},
   "source": [
    "# if, elif, else Statements\n",
    "\n",
    "<code>if</code> Statements in Python allows us to tell the computer to perform alternative actions based on a certain set of results.\n",
    "\n",
    "Verbally, we can imagine we are telling the computer:\n",
    "\n",
    "\"Hey if this case happens, perform some action\"\n",
    "\n",
    "We can then expand the idea further with <code>elif</code> and <code>else</code> statements, which allow us to tell the computer:\n",
    "\n",
    "\"Hey if this case happens, perform some action. Else, if another case happens, perform some other action. Else, if *none* of the above cases happened, perform this action.\"\n",
    "\n",
    "Let's go ahead and look at the syntax format for <code>if</code> statements to get a better idea of this:\n",
    "\n",
    "    if case1:\n",
    "        perform action1\n",
    "    elif case2:\n",
    "        perform action2\n",
    "    else: \n",
    "        perform action3"
   ]
  },
  {
   "cell_type": "code",
   "execution_count": 2,
   "id": "1255605f-51e3-43a6-a791-435be2a0f594",
   "metadata": {},
   "outputs": [
    {
     "name": "stdout",
     "output_type": "stream",
     "text": [
      "It wa true\n"
     ]
    }
   ],
   "source": [
    "if True:\n",
    "    print(\"It wa true\")"
   ]
  },
  {
   "cell_type": "code",
   "execution_count": 10,
   "id": "13ff3659-5284-4fc7-8579-dff542e752f6",
   "metadata": {},
   "outputs": [
    {
     "name": "stdout",
     "output_type": "stream",
     "text": [
      "I will be printed out in case the rsult is false\n"
     ]
    }
   ],
   "source": [
    "result = False\n",
    "\n",
    "if result:\n",
    "    print(\"Result was true\")\n",
    "else:\n",
    "    print(\"I will be printed out in case the rsult is false\")"
   ]
  },
  {
   "cell_type": "code",
   "execution_count": 26,
   "id": "cafac392-5fce-43a5-9a53-64e73428603d",
   "metadata": {},
   "outputs": [
    {
     "name": "stdin",
     "output_type": "stream",
     "text": [
      "Please enter the location where you want to withdraw from:  bank\n"
     ]
    },
    {
     "name": "stdout",
     "output_type": "stream",
     "text": [
      "Your location is: bank\n",
      "Welcome to the bank\n"
     ]
    }
   ],
   "source": [
    "# Check if a user wan'ts to deposit from a bank, we just display welcome to the bank\n",
    "\n",
    "loc = input(\"Please enter the location where you want to withdraw from: \")\n",
    "print(f\"Your location is: {loc}\")\n",
    "\n",
    "if loc == \"pos\":\n",
    "    print(\"Welcome to the POS Terminal\")\n",
    "    # more statements that has to do with POS can go here\n",
    "elif loc == \"bank\":\n",
    "    print(\"Welcome to the bank\")\n",
    "else:\n",
    "    print(\"Where are you?\")"
   ]
  },
  {
   "cell_type": "code",
   "execution_count": 32,
   "id": "a8dc0a42-e9cc-473c-a61e-11d4be6a62bb",
   "metadata": {},
   "outputs": [
    {
     "name": "stdout",
     "output_type": "stream",
     "text": [
      "Welcome Daveworld!\n"
     ]
    }
   ],
   "source": [
    "person = \"Daveworld\"\n",
    "\n",
    "if person == \"Daveworld\":\n",
    "    print(\"Welcome Daveworld!\")\n",
    "else:\n",
    "    print(\"Welcome, whats's your name?\")"
   ]
  },
  {
   "cell_type": "code",
   "execution_count": 40,
   "id": "09e9af83-fb11-426b-8637-01ed61635940",
   "metadata": {},
   "outputs": [
    {
     "data": {
      "text/plain": [
       "0"
      ]
     },
     "execution_count": 40,
     "metadata": {},
     "output_type": "execute_result"
    }
   ],
   "source": [
    "10 % 2"
   ]
  },
  {
   "cell_type": "code",
   "execution_count": 46,
   "id": "18259a61-8804-4356-b431-647ba9f6a565",
   "metadata": {},
   "outputs": [
    {
     "name": "stdin",
     "output_type": "stream",
     "text": [
      "Enter a number to check if it's Even or Odd:  26\n"
     ]
    },
    {
     "name": "stdout",
     "output_type": "stream",
     "text": [
      "The number 26 you entered is an even number!\n"
     ]
    }
   ],
   "source": [
    "# Write a python code to check if the user input is an Even or Odd number\n",
    "user_input = int(input(\"Enter a number to check if it's Even or Odd: \"))\n",
    "\n",
    "if user_input % 2 == 0:\n",
    "    print(f\"The number {user_input} you entered is an even number!\")\n",
    "else: \n",
    "    print(f\"The number {user_input} you entered is an odd number!\")"
   ]
  },
  {
   "cell_type": "code",
   "execution_count": 58,
   "id": "8f42b286-46c8-4c96-9590-ffc718caae36",
   "metadata": {},
   "outputs": [
    {
     "name": "stdout",
     "output_type": "stream",
     "text": [
      "The number is Positive\n"
     ]
    }
   ],
   "source": [
    "# Write a python code to determine if a number is Positive, Negative or Neutral.\n",
    "\n",
    "number = 7\n",
    "if number == 0:\n",
    "    print(\"The number is neutral\")\n",
    "elif number > 0:\n",
    "    print(\"The number is Positive\")\n",
    "else:\n",
    "    print(\"The number is negative\")"
   ]
  }
 ],
 "metadata": {
  "kernelspec": {
   "display_name": "Python [conda env:base] *",
   "language": "python",
   "name": "conda-base-py"
  },
  "language_info": {
   "codemirror_mode": {
    "name": "ipython",
    "version": 3
   },
   "file_extension": ".py",
   "mimetype": "text/x-python",
   "name": "python",
   "nbconvert_exporter": "python",
   "pygments_lexer": "ipython3",
   "version": "3.12.7"
  }
 },
 "nbformat": 4,
 "nbformat_minor": 5
}
