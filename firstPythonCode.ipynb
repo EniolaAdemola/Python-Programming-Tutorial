{
 "cells": [
  {
   "cell_type": "markdown",
   "id": "fef31372-538b-4142-9e01-05519494a80e",
   "metadata": {
    "jp-MarkdownHeadingCollapsed": true
   },
   "source": [
    "Welcome to python programming class (Setup and installation)\n",
    "# Heading 1\n",
    "## Heading 2\n",
    "### Heading 3\n",
    "#### Heading 4\n",
    "##### Heading 5\n",
    "###### Heading 6\n"
   ]
  },
  {
   "cell_type": "code",
   "execution_count": 9,
   "id": "bdb38985-5b56-4e83-bb40-722057abf817",
   "metadata": {},
   "outputs": [
    {
     "name": "stdout",
     "output_type": "stream",
     "text": [
      "My name is Daveworld\n"
     ]
    }
   ],
   "source": [
    "print(\"My name is Dave\")"
   ]
  },
  {
   "cell_type": "code",
   "execution_count": 1,
   "id": "5841abbd-295b-4c94-b8d7-2c08259a618a",
   "metadata": {},
   "outputs": [
    {
     "name": "stdout",
     "output_type": "stream",
     "text": [
      "Hello world\n"
     ]
    }
   ],
   "source": [
    "print(\"Hello world\")"
   ]
  },
  {
   "cell_type": "markdown",
   "id": "bbc91884-cd63-409d-9bac-3946eab36d03",
   "metadata": {},
   "source": [
    "# What is python"
   ]
  },
  {
   "cell_type": "code",
   "execution_count": 13,
   "id": "8b7d41b7-506c-42d2-8181-fed3fe0391ac",
   "metadata": {},
   "outputs": [
    {
     "name": "stdout",
     "output_type": "stream",
     "text": [
      "Welcome to class\n"
     ]
    }
   ],
   "source": [
    "print(\"Welcome to class\")"
   ]
  }
 ],
 "metadata": {
  "kernelspec": {
   "display_name": "Python 3 (ipykernel)",
   "language": "python",
   "name": "python3"
  },
  "language_info": {
   "codemirror_mode": {
    "name": "ipython",
    "version": 3
   },
   "file_extension": ".py",
   "mimetype": "text/x-python",
   "name": "python",
   "nbconvert_exporter": "python",
   "pygments_lexer": "ipython3",
   "version": "3.12.7"
  }
 },
 "nbformat": 4,
 "nbformat_minor": 5
}
